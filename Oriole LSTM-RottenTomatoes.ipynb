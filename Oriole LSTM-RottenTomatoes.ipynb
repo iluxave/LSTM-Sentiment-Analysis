{
 "cells": [
  {
   "cell_type": "markdown",
   "metadata": {},
   "source": [
    "# Sentiment Analysis with LSTMs"
   ]
  },
  {
   "cell_type": "markdown",
   "metadata": {},
   "source": [
    "In this notebook, we'll be looking at how to apply deep learning techniques to the task of sentiment analysis. Sentiment analysis can be thought of as the exercise of taking a sentence, paragraph, document, or any piece of natural language, and determining whether that text's emotional tone is positive, negative or neutral. \n",
    "\n",
    "This notebook will go through numerous topics like word vectors, recurrent neural networks, and long short-term memory units (LSTMs). After getting a good understanding of these terms, we’ll walk through concrete code examples and a full Tensorflow sentiment classifier at the end.\n",
    "\n",
    "Before getting into the specifics, let's discuss the reasons why deep learning fits into natural language processing (NLP) tasks. "
   ]
  },
  {
   "cell_type": "markdown",
   "metadata": {},
   "source": [
    "# Deep Learning for NLP "
   ]
  },
  {
   "cell_type": "markdown",
   "metadata": {},
   "source": [
    "Natural language processing is all about creating systems that process or “understand” language in order to perform certain tasks. These tasks could include:\n",
    "\n",
    "* Question Answering - The main job of technologies like Siri, Alexa, and Cortana\n",
    "* Sentiment Analysis - Determining the emotional tone behind a piece of text\n",
    "* Image to Text Mappings - Generating a caption for an input image\n",
    "* Machine Translation - Translating a paragraph of text to another language\n",
    "* Speech Recognition - Having computers recognize spoken words\n",
    "\n",
    "In the pre-deep learning era, NLP was a thriving field that saw lots of different advancements. However, in all of the successes in the aforementioned tasks, one needed to do a lot of feature enginering and thus had to have a lot of domain knowledge in linguistics. Entire 4 year degrees are devoted to this field of study, as practitioners needed to be comfortable with terms like phonemes and morphemes. In the past few years, deep learning has seen incredible progress and has largely removed the requirement of strong domain knowledge. As a result of the lower barrier to entry, applications to NLP tasks have been one of the biggest areas of deep learning research. "
   ]
  },
  {
   "cell_type": "markdown",
   "metadata": {},
   "source": [
    "# Word Vectors"
   ]
  },
  {
   "cell_type": "markdown",
   "metadata": {},
   "source": [
    "In order to understand how deep learning can be applied, think about all the different forms of data that are used as inputs into machine learning or deep learning models. Convolutional neural networks use arrays of pixel values, logistic regression uses quantifiable features, and reinforcement learning models use reward signals. The common theme is that the inputs need to be scalar values, or matrices of scalar values. When you think of NLP tasks, however, a data pipeline like this may come to mind. \n",
    " \n",
    "![caption](Images/SentimentAnalysis.png)\n",
    "\n",
    "This kind of pipeline is problematic. There is no way for us to do common operations like dot products or backpropagation on a single string. Instead of having a string input, we will need to convert each word in the sentence to a vector. \n",
    "\n",
    "![caption](Images/SentimentAnalysis2.png)\n",
    "\n",
    "You can think of the input to the sentiment analysis module as being a 16 x D dimensional matrix. "
   ]
  },
  {
   "cell_type": "markdown",
   "metadata": {},
   "source": [
    "We want these vectors to be created in such a way that they somehow represent the word and its context, meaning, and semantics. For example, we’d like the vectors for the words “love” and “adore” to reside in relatively the same area in the vector space since they both have similar definitions and are both used in similar contexts. The vector representation of a word is also known as a word embedding.\n",
    "\n",
    "![caption](Images/SentimentAnalysis8.png)"
   ]
  },
  {
   "cell_type": "markdown",
   "metadata": {},
   "source": [
    "# Word2Vec"
   ]
  },
  {
   "cell_type": "markdown",
   "metadata": {},
   "source": [
    "In order to create these word embeddings, we'll use a model that's commonly reffered to as \"Word2Vec\". Without going into too much detail, the model creates word vectors by looking at the context with which words appear in sentences. Words with similar contexts will be placed close together in the vector space. In natural language, the context of words can be very important when trying to determine their meanings. Taking our previous example of the words \"adore\" and \"love\", consider the types of sentences we'd find these words in.\n",
    "\n",
    "![caption](Images/SentimentAnalysis9.png)\n",
    "\n",
    "From the context of the sentences, we can see that both words are generally used in sentences with positive connotations and generally precede nouns or noun phrases. This is an indication that both words have something in common and can possibly be synonyms. Context is also very important when considering grammatical structure in sentences. Most sentences will follow traditional paradigms of having verbs follow nouns, adjectives precede nouns, and so on. For this reason, the model is more likely to position nouns in the same general area as other nouns. The model takes in a large dataset of sentences (English Wikipedia for example) and outputs vectors for each unique word in the corpus. The output of a Word2Vec model is called an embedding matrix.\n",
    "\n",
    "![caption](Images/SentimentAnalysis3.png)\n",
    "\n",
    "This embedding matrix will contain vectors for every distinct word in the training corpus. Traditionally, embedding matrices can contain over 3 million word vectors.\n",
    "\n",
    "The Word2Vec model is trained by taking each sentence in the dataset, sliding a window of fixed size over it, and trying to predict the center word of the window, given the other words. Using a loss function and optimization procedure, the model generates vectors for each unique word. The specifics of this training procedure can get a little complicated, so we’re going to skip over the details for now, but the main takeaway here is that inputs into any Deep Learning approach to an NLP task will likely have word vectors as input.\n",
    "\n",
    "For more information on the theory behind Word2Vec and how you create your own embeddings, check out Tensorflow's [tutorial](https://www.tensorflow.org/tutorials/word2vec)"
   ]
  },
  {
   "cell_type": "markdown",
   "metadata": {},
   "source": [
    "# Recurrent Neural Networks (RNNs)"
   ]
  },
  {
   "cell_type": "markdown",
   "metadata": {},
   "source": [
    "Now that we have our word vectors as input, let's look at the actual network architecture we're going to be building. The unique aspect of NLP data is that there is a temporal aspect to it. Each word in a sentence depends greatly on what came before and comes after it. In order to account for this dependency, we use a recurrent neural network.  \n",
    "\n",
    "The recurrent neural network structure is a little different from the traditional feedforward NN you may be accostumed to seeing. The feedforward network consists of input nodes, hidden units, and output nodes. \n",
    "\n",
    "![caption](Images/SentimentAnalysis17.png)\n",
    "\n",
    "The main difference between feedforward neural networks and recurrent ones is the temporal aspect of the latter. In RNNs, each word in an input sequence will be associated with a specific time step. In effect, the number of time steps will be equal to the max sequence length. \n",
    "\n",
    "![caption](Images/SentimentAnalysis18.png)\n",
    "\n",
    "Associated with each time step is also a new component called a hidden state vector h<sub>t</sub>. From a high level, this vector seeks to encapsulate and summarize all of the information that was seen in the previous time steps. Just like x<sub>t</sub> is a vector that encapsulates all the information of a specific word, h<sub>t</sub> is a vector that summarizes information from previous time steps.\n",
    "\n",
    "The hidden state is a function of both the current word vector and the hidden state vector at the previous time step. The sigma indicates that the sum of the two terms will be put through an activation function (normally a sigmoid or tanh).\n",
    "\n",
    "![caption](Images/SentimentAnalysis15.png)\n",
    "\n",
    "The 2 W terms in the above formulation represent weight matrices. If you take a close look at the superscripts, you’ll see that there’s a weight matrix W<sup>X</sup> which we’re going to multiply with our input, and there’s a recurrent weight matrix W<sup>H</sup> which is multiplied with the hidden state vector at the previous time step. W<sup>H</sup> is a matrix that stays the same across all time steps, and the weight matrix W<sup>X</sup> is different for each input. \n",
    "\n",
    "The magnitude of these weight matrices impact the amount the hidden state vector is affected by either the current vector or the previous hidden state. As an exercise, take a look at the above formula, and consider how h<sub>t</sub> would change if either W<sup>X</sup> or W<sup>H</sup> had large or small values. \n",
    "\n",
    "Let's look at a quick example. When the magnitude of W<sup>H</sup> is large and the magnitude of W<sup>X</sup> is small, we know that h<sub>t</sub> is largely affected by h<sub>t-1</sub> and unaffected by x<sub>t</sub>. In other words, the current hidden state vector sees that the current word is largely inconsequential to the overall summary of the sentence, and thus it will take on mostly the same value as the vector at the previous time step. \n",
    "\n",
    "The weight matrices are updated through an optimization process called backpropagation through time. \n",
    "\n",
    "The hidden state vector at the final time step is fed into a binary softmax classifier where it is multiplied by another weight matrix and put through a softmax function that outputs values between 0 and 1, effectively giving us the probabilities of positive and negative sentiment. \n",
    "\n",
    "![caption](Images/SentimentAnalysis16.png)"
   ]
  },
  {
   "cell_type": "markdown",
   "metadata": {},
   "source": [
    "# Long Short Term Memory Units (LSTMs) "
   ]
  },
  {
   "cell_type": "markdown",
   "metadata": {},
   "source": [
    "Long Short Term Memory Units are modules that you can place inside of reucrrent neural entworks. At a high level, they make sure that the hidden state vector h is able to encapsulate information about long term dependencies in the text. As we saw in the previous section, the formulation for h in traditional RNNs is relatively simple. This approach won't be able to effectively connect together information that is separated by more than a couple time steps. We can illiustrate this idea of handling long term dependencies through an example in the field of question answering. The function of question answering models is to take an a passage of text, and answer a question about its content. Let's look at the following example.\n",
    "\n",
    "![caption](Images/SentimentAnalysis4.png)\n",
    "\n",
    "Here, we see that the middle sentence had no impact on the question that was asked. However, there is a strong connection between the first and third sentences. With a classic RNN, the hidden state vector at the end of the network might have stored more information about the dog sentence than about the first sentence about the number. Basically, the addition of LSTM units make it possible to determine the correct and useful information that needs to be stored in the hidden state vector.\n",
    "\n",
    "Looking at LSTM units from a more technical viewpoint, the units take in the current word vector x<sub>t</sub> and output the hidden state vector h<sub>t</sub>. In these units, the formulation for h<sub>t</sub> will be a bit more complex than that in a typical RNN. The computation is broken up into 4 components, an input gate, a forget gate, an output gate, and a new memory container. \n",
    "\n",
    "![caption](Images/SentimentAnalysis10.png)\n",
    "\n",
    "Each gate will take in x<sub>t</sub> and h<sub>t-1</sub> (not shown in image) as inputs and will perform some computation on them to obtain intermediate states. Each intermediate state gets fed into different pipelines and eventually the information is aggregated to form h<sub>t</sub>. For simplicity sake, we won't go into the specific formulations for each gate, but it's worth noting that each of these gates can be thought of as different modules within the LSTM that each have different functions. The input gate determines how much emphasis to put on each of the inputs, the forget gate determines the information that we'll throw away, and the output gate determines the final h<sub>t</sub> based on the intermediate states. For more information on understanding the functions of the different gates and the full equations, check out Christopher Olah's great [blog post](http://colah.github.io/posts/2015-08-Understanding-LSTMs/).\n",
    "\n",
    "Looking back at the first example with question “What is the sum of the two numbers?”, the model would have to be trained on similar types of questions and answers. The LSTM units would then be able to realize that any sentence without numbers will likely not have an impact on the answer to the question, and thus the unit will be able to utilize its forget gate to discard the unnecessary information about the dog, and rather keep the information regarding the numbers. "
   ]
  },
  {
   "cell_type": "markdown",
   "metadata": {},
   "source": [
    "# Framing Sentiment Analysis as a Deep Learning Problem"
   ]
  },
  {
   "cell_type": "markdown",
   "metadata": {},
   "source": [
    "As mentioned before, the task of sentiment analysis involves taking in an input sequence of words and determining whether the sentiment is positive, negative, or neutral. We can separate this specific task (and most other NLP tasks) into 5 different components.\n",
    "\n",
    "    1) Training a word vector generation model (such as Word2Vec) or loading pretrained word vectors\n",
    "    2) Creating an ID's matrix for our training set (We'll discuss this a bit later)\n",
    "    3) RNN (With LSTM units) graph creation\n",
    "    4) Training \n",
    "    5) Testing"
   ]
  },
  {
   "cell_type": "markdown",
   "metadata": {},
   "source": [
    "# Loading Data "
   ]
  },
  {
   "cell_type": "markdown",
   "metadata": {},
   "source": [
    "First, we want to create our word vectors. For simplicity, we're going to be using a pretrained model. \n",
    "\n",
    "As one of the biggest players in the ML game, Google was able to train a Word2Vec model on a massive Google News dataset that contained over 100 billion different words! From that model, Google [was able to create 3 million word vectors](https://code.google.com/archive/p/word2vec/#Pre-trained_word_and_phrase_vectors), each with a dimensionality of 300. \n",
    "\n",
    "In an ideal scenario, we'd use those vectors, but since the word vectors matrix is quite large (3.6 GB!), we'll be using a much more manageable matrix that is trained using [GloVe](http://nlp.stanford.edu/projects/glove/), a similar word vector generation model. The matrix will contain 400,000 word vectors, each with a dimensionality of 50. \n",
    "\n",
    "We're going to be importing two different data structures, one will be a Python list with the 400,000 words, and one will be a 400,000 x 50 dimensional embedding matrix that holds all of the word vector values. "
   ]
  },
  {
   "cell_type": "code",
   "execution_count": 1,
   "metadata": {},
   "outputs": [
    {
     "name": "stdout",
     "output_type": "stream",
     "text": [
      "Loaded the word list!\n",
      "Loaded the word vectors!\n"
     ]
    }
   ],
   "source": [
    "import numpy as np\n",
    "#WORDS_LIST='wiki-news-300d-1M.wl.npy'\n",
    "#WORD_VECTORS='wiki-news-300d-1M.emb.npy'\n",
    "#WORDS_LIST='wordsList.npy'\n",
    "#WORD_VECTORS='wordVectors.npy'\n",
    "WORDS_LIST='google-words.npy'\n",
    "WORD_VECTORS='google-emb.npy'\n",
    "\n",
    "wordsList = np.load(WORDS_LIST)\n",
    "print('Loaded the word list!')\n",
    "wordsList = wordsList.tolist() #Originally loaded as numpy array\n",
    "#wordsList = [word.decode('UTF-8') for word in wordsList] #Encode words as UTF-8\n",
    "wordVectors = np.load(WORD_VECTORS)\n",
    "print ('Loaded the word vectors!')"
   ]
  },
  {
   "cell_type": "code",
   "execution_count": 2,
   "metadata": {},
   "outputs": [
    {
     "name": "stdout",
     "output_type": "stream",
     "text": [
      "(3000000, 300)\n",
      "snowcapped_Caucasus\n",
      "3000000\n",
      "[ 2.00195312e-02 -5.44433594e-02  4.97436523e-03  1.36718750e-01\n",
      " -8.78906250e-03 -2.53906250e-02  1.23046875e-01 -7.03125000e-02\n",
      "  5.22460938e-02 -1.93359375e-01 -1.51367188e-02  1.11328125e-01\n",
      "  6.59179688e-03  4.48608398e-03  1.12304688e-02 -5.93261719e-02\n",
      "  1.11328125e-01  2.67333984e-02 -6.49414062e-02 -3.17382812e-02\n",
      " -1.81884766e-02  9.27734375e-02  6.17675781e-02  7.66601562e-02\n",
      "  1.15234375e-01  1.13281250e-01 -6.64062500e-02 -4.24804688e-02\n",
      "  5.71289062e-02  7.32421875e-02  1.33056641e-02 -1.82617188e-01\n",
      "  8.11767578e-03 -7.37304688e-02 -3.29589844e-02 -2.87109375e-01\n",
      "  2.36328125e-01 -7.17163086e-03  1.10473633e-02 -6.54296875e-02\n",
      "  4.92095947e-04 -2.51464844e-02 -6.59179688e-02  1.67968750e-01\n",
      " -1.72851562e-01 -9.03320312e-02 -1.14746094e-01 -1.04492188e-01\n",
      "  8.74023438e-02 -1.17187500e-02 -7.95898438e-02  3.68652344e-02\n",
      " -2.27539062e-01  3.54003906e-02  1.56250000e-01 -8.25195312e-02\n",
      " -1.13281250e-01  4.02832031e-02 -1.52343750e-01  4.95605469e-02\n",
      " -9.17968750e-02 -3.85742188e-02  3.51562500e-02 -3.78417969e-03\n",
      "  3.58886719e-02 -2.21679688e-01 -3.41796875e-02  8.39843750e-02\n",
      " -4.10156250e-02  1.36718750e-01  2.10937500e-01 -1.03149414e-02\n",
      "  1.57226562e-01  1.37695312e-01 -7.03125000e-02  5.90820312e-02\n",
      "  3.51562500e-02  1.09375000e-01  2.94189453e-02  1.27929688e-01\n",
      " -8.74023438e-02 -1.19628906e-01 -1.62109375e-01  9.81445312e-02\n",
      " -6.31713867e-03  1.30859375e-01 -1.04492188e-01  2.53906250e-02\n",
      "  7.32421875e-02  9.47265625e-02 -1.79443359e-02 -2.04101562e-01\n",
      "  9.47265625e-02  1.17675781e-01 -2.11914062e-01 -4.19921875e-02\n",
      "  1.94091797e-02  1.11083984e-02 -6.78710938e-02 -1.33056641e-02\n",
      " -9.52148438e-03 -7.12890625e-02  1.73828125e-01  1.64062500e-01\n",
      " -2.35595703e-02  1.69921875e-01 -2.69775391e-02 -1.70898438e-02\n",
      " -5.83496094e-02 -1.47705078e-02 -5.78613281e-02 -1.25000000e-01\n",
      "  7.32421875e-02 -1.23535156e-01  5.24902344e-02 -1.78222656e-02\n",
      "  5.66406250e-02 -7.37304688e-02  7.51953125e-02 -1.65039062e-01\n",
      "  2.07519531e-02  1.22558594e-01 -3.90625000e-03 -8.78906250e-02\n",
      "  4.80957031e-02 -1.88476562e-01 -1.61132812e-01 -9.09423828e-03\n",
      "  7.22656250e-02  1.77734375e-01 -1.43554688e-01 -4.17480469e-02\n",
      "  1.58691406e-02  5.37109375e-02 -5.59082031e-02  4.58984375e-02\n",
      " -2.42919922e-02 -1.07910156e-01 -4.93164062e-02  1.71875000e-01\n",
      "  5.20019531e-02 -1.63085938e-01 -2.97851562e-02 -1.67968750e-01\n",
      " -1.81884766e-02  5.17578125e-02  2.53906250e-02 -3.78417969e-02\n",
      " -8.30078125e-03 -1.91650391e-02  8.42285156e-03  1.47460938e-01\n",
      "  1.05957031e-01  9.03320312e-02  4.24804688e-02  1.03027344e-01\n",
      "  1.86523438e-01  3.10058594e-02 -1.25000000e-01 -7.91015625e-02\n",
      " -3.10058594e-02  9.91210938e-02  1.06933594e-01  1.22558594e-01\n",
      "  6.44531250e-02  2.02148438e-01  1.52343750e-01  6.49414062e-02\n",
      "  2.97851562e-02  1.93359375e-01 -2.07519531e-02 -2.51464844e-02\n",
      "  4.51660156e-02 -8.83789062e-02  6.07910156e-02  1.34765625e-01\n",
      "  1.14257812e-01  1.53198242e-02  3.46679688e-02 -7.08007812e-02\n",
      " -7.91015625e-02 -7.27539062e-02  1.95312500e-01  6.92749023e-03\n",
      " -9.33837891e-03 -1.76757812e-01  2.22656250e-01 -7.27539062e-02\n",
      "  5.34057617e-03 -6.49414062e-02 -1.96533203e-02  7.44628906e-03\n",
      " -6.25000000e-02  1.02043152e-04 -1.29882812e-01 -1.79443359e-02\n",
      " -5.44433594e-02  1.98974609e-02  9.37500000e-02  2.58789062e-02\n",
      " -1.39648438e-01  9.13085938e-02  1.13525391e-02 -5.46875000e-02\n",
      " -5.24902344e-02  2.75878906e-02  2.05078125e-02  9.13085938e-02\n",
      " -1.54296875e-01 -2.81982422e-02  2.35595703e-02  3.47137451e-04\n",
      " -3.22265625e-02  2.42919922e-02  5.95092773e-04  3.97949219e-02\n",
      "  8.10546875e-02 -4.88281250e-02  1.33789062e-01 -1.40625000e-01\n",
      " -8.25195312e-02 -3.56445312e-02  1.37939453e-02  2.75878906e-02\n",
      "  1.01562500e-01  1.73828125e-01  1.75781250e-02 -9.71679688e-02\n",
      " -1.01074219e-01  9.96093750e-02 -2.09960938e-01  1.17187500e-01\n",
      " -2.51464844e-02  1.01074219e-01  5.81054688e-02 -1.44531250e-01\n",
      "  1.57226562e-01 -6.78710938e-02 -1.17675781e-01  6.78710938e-02\n",
      "  2.55126953e-02 -2.20947266e-02 -3.73535156e-02  9.13085938e-02\n",
      " -2.24609375e-02 -1.24511719e-01 -1.68945312e-01 -6.93359375e-02\n",
      " -1.45507812e-01 -2.04101562e-01 -1.46484375e-02  1.21093750e-01\n",
      "  4.27246094e-02  2.25585938e-01  8.10546875e-02 -3.36914062e-02\n",
      " -7.37304688e-02  3.34472656e-02  9.21630859e-03  7.61718750e-02\n",
      "  8.39843750e-02  3.58886719e-02  1.54296875e-01  8.93554688e-02\n",
      "  1.00708008e-02 -1.49536133e-03  2.45361328e-02  9.76562500e-02\n",
      "  2.28271484e-02  8.10546875e-02 -1.34765625e-01 -8.05664062e-02\n",
      " -1.87500000e-01  3.80859375e-02  4.78515625e-02  5.17578125e-02\n",
      "  2.88085938e-02 -2.20703125e-01 -7.86132812e-02  4.00390625e-02\n",
      " -1.75781250e-02 -5.34057617e-03 -5.40161133e-03 -1.19018555e-02\n",
      " -2.58789062e-02  4.44335938e-02  9.13085938e-02 -3.00292969e-02\n",
      "  6.64062500e-02  4.18090820e-03 -6.20117188e-02  1.26953125e-01\n",
      " -1.08886719e-01  6.39648438e-02 -8.78906250e-02  1.15722656e-01\n",
      "  1.28173828e-02 -1.84326172e-02  6.77490234e-03  4.56542969e-02]\n"
     ]
    }
   ],
   "source": [
    "print(wordVectors.shape)\n",
    "print(wordsList[-1])\n",
    "print(len(wordsList))\n",
    "print(wordVectors[999993])"
   ]
  },
  {
   "cell_type": "markdown",
   "metadata": {},
   "source": [
    "Just to make sure everything has been loaded in correctly, we can look at the dimensions of the vocabulary list and the embedding matrix. "
   ]
  },
  {
   "cell_type": "code",
   "execution_count": 3,
   "metadata": {},
   "outputs": [
    {
     "name": "stdout",
     "output_type": "stream",
     "text": [
      "3000000\n",
      "(3000000, 300)\n"
     ]
    }
   ],
   "source": [
    "print(len(wordsList))\n",
    "print(wordVectors.shape)"
   ]
  },
  {
   "cell_type": "code",
   "execution_count": 4,
   "metadata": {
    "collapsed": true
   },
   "outputs": [],
   "source": [
    "# Convert all words to lower case, as our dataset is all lowercase\n",
    "for i in range(len(wordsList)):\n",
    "    wordsList[i]=wordsList[i].lower()"
   ]
  },
  {
   "cell_type": "markdown",
   "metadata": {},
   "source": [
    "We can also search our word list for a word like \"baseball\", and then access its corresponding vector through the embedding matrix."
   ]
  },
  {
   "cell_type": "code",
   "execution_count": 5,
   "metadata": {
    "scrolled": true
   },
   "outputs": [
    {
     "data": {
      "text/plain": [
       "array([-0.10546875,  0.25585938,  0.25390625, -0.03125   , -0.28515625,\n",
       "       -0.1953125 ,  0.18261719, -0.06298828,  0.18457031,  0.08007812,\n",
       "       -0.07324219, -0.25585938, -0.12792969,  0.08251953, -0.046875  ,\n",
       "       -0.08984375,  0.07714844,  0.3515625 ,  0.26367188, -0.13867188,\n",
       "       -0.125     ,  0.09130859, -0.01062012, -0.140625  , -0.04321289,\n",
       "        0.15917969, -0.07763672,  0.34179688,  0.12255859,  0.30273438,\n",
       "        0.04956055,  0.140625  , -0.0378418 ,  0.04052734, -0.01831055,\n",
       "        0.07128906,  0.29492188, -0.17773438,  0.2578125 ,  0.18652344,\n",
       "        0.18261719, -0.07128906,  0.22558594, -0.05932617,  0.05566406,\n",
       "        0.17773438,  0.1875    , -0.1875    , -0.05664062,  0.32421875,\n",
       "       -0.05297852,  0.00236511, -0.08398438, -0.0123291 , -0.03088379,\n",
       "       -0.16015625, -0.01043701, -0.06835938, -0.01257324, -0.16601562,\n",
       "       -0.11376953, -0.0612793 ,  0.13183594,  0.07324219,  0.23730469,\n",
       "        0.00515747, -0.23535156,  0.13378906,  0.2734375 ,  0.08740234,\n",
       "        0.34179688,  0.02490234, -0.10205078, -0.18847656, -0.01281738,\n",
       "        0.16015625,  0.21582031, -0.04931641, -0.04711914, -0.22167969,\n",
       "       -0.19628906, -0.13183594, -0.17675781,  0.09277344, -0.13378906,\n",
       "       -0.07177734, -0.359375  ,  0.32617188,  0.11376953, -0.1796875 ,\n",
       "       -0.14160156, -0.04516602,  0.08007812,  0.07128906, -0.13476562,\n",
       "        0.21289062,  0.30078125,  0.20117188, -0.10839844, -0.15039062,\n",
       "       -0.10058594,  0.0378418 ,  0.18652344, -0.16796875,  0.38476562,\n",
       "        0.28320312,  0.12402344, -0.05419922, -0.26757812, -0.05859375,\n",
       "        0.16503906,  0.09472656, -0.23144531,  0.13378906,  0.3828125 ,\n",
       "        0.65234375, -0.13183594,  0.08740234,  0.00160217, -0.00958252,\n",
       "       -0.171875  , -0.00799561, -0.1015625 , -0.10888672, -0.03344727,\n",
       "       -0.30273438, -0.13867188,  0.28125   , -0.29882812, -0.06884766,\n",
       "       -0.03540039, -0.40820312, -0.11132812,  0.07226562, -0.04492188,\n",
       "       -0.16015625, -0.23046875,  0.02392578, -0.1640625 , -0.18359375,\n",
       "       -0.15039062,  0.12304688,  0.2109375 , -0.13085938,  0.05175781,\n",
       "        0.28710938,  0.109375  , -0.09619141,  0.05859375, -0.32421875,\n",
       "        0.03320312, -0.01489258, -0.45117188, -0.02429199, -0.33203125,\n",
       "       -0.17382812,  0.14648438, -0.17675781, -0.09423828,  0.01635742,\n",
       "       -0.02624512, -0.09082031,  0.00793457, -0.00540161, -0.02160645,\n",
       "       -0.12158203,  0.05786133, -0.33007812, -0.07763672,  0.02478027,\n",
       "        0.08398438, -0.05395508,  0.1875    , -0.20117188,  0.08349609,\n",
       "       -0.01867676,  0.10302734,  0.16894531, -0.11767578,  0.16699219,\n",
       "        0.00720215,  0.16699219, -0.06689453, -0.07421875,  0.04467773,\n",
       "        0.06884766, -0.09765625, -0.18457031,  0.265625  ,  0.01733398,\n",
       "        0.15625   ,  0.15820312, -0.10595703, -0.01263428, -0.33203125,\n",
       "        0.05615234,  0.01000977, -0.25195312, -0.10498047, -0.07568359,\n",
       "       -0.09472656, -0.26367188, -0.12109375, -0.12890625, -0.22070312,\n",
       "       -0.328125  ,  0.12988281, -0.27929688, -0.07421875,  0.00909424,\n",
       "       -0.08447266, -0.02026367, -0.1875    ,  0.16601562, -0.11035156,\n",
       "        0.22753906, -0.16113281,  0.06884766, -0.12353516,  0.012146  ,\n",
       "        0.08544922, -0.3984375 , -0.16699219, -0.02844238,  0.23242188,\n",
       "        0.11083984, -0.00104523,  0.11914062,  0.02966309, -0.10595703,\n",
       "        0.07373047,  0.03417969, -0.03198242,  0.03271484, -0.00170898,\n",
       "       -0.01611328,  0.04321289, -0.27734375,  0.32617188, -0.1796875 ,\n",
       "        0.11279297, -0.2890625 ,  0.2265625 , -0.37304688, -0.16992188,\n",
       "       -0.0112915 , -0.13183594, -0.17871094, -0.13964844, -0.05981445,\n",
       "       -0.02172852,  0.00543213,  0.13964844, -0.05126953,  0.03271484,\n",
       "        0.11914062,  0.06152344, -0.34375   , -0.10693359,  0.07714844,\n",
       "        0.296875  , -0.18554688,  0.08203125,  0.12304688, -0.20898438,\n",
       "        0.36914062, -0.20898438, -0.07128906, -0.20214844, -0.12792969,\n",
       "        0.00448608,  0.16015625, -0.21972656,  0.12695312, -0.01489258,\n",
       "       -0.2734375 , -0.02038574,  0.06738281,  0.17675781, -0.24414062,\n",
       "        0.06445312,  0.12011719,  0.28125   ,  0.24121094, -0.1171875 ,\n",
       "       -0.05859375, -0.31640625,  0.20117188, -0.0559082 , -0.14160156,\n",
       "       -0.11767578,  0.02539062, -0.10546875, -0.13964844,  0.2734375 ,\n",
       "        0.10253906,  0.06103516,  0.05737305, -0.01434326,  0.10986328])"
      ]
     },
     "execution_count": 5,
     "metadata": {},
     "output_type": "execute_result"
    }
   ],
   "source": [
    "baseballIndex = wordsList.index('baseball')\n",
    "wordVectors[baseballIndex]"
   ]
  },
  {
   "cell_type": "markdown",
   "metadata": {},
   "source": [
    "Now that we have our vectors, our first step is taking an input sentence and then constructing the its vector representation. Let's say that we have the input sentence \"I thought the movie was incredible and inspiring\". In order to get the word vectors, we can use Tensorflow's embedding lookup function. This function takes in two arguments, one for the embedding matrix (the wordVectors matrix in our case), and one for the ids of each of the words. The ids vector can be thought of as the integerized representation of the training set. This is basically just the row index of each of the words. Let's look at a quick example to make this concrete. "
   ]
  },
  {
   "cell_type": "code",
   "execution_count": 6,
   "metadata": {},
   "outputs": [
    {
     "name": "stderr",
     "output_type": "stream",
     "text": [
      "/home/ilya/.local/lib64/python3.6/site-packages/h5py/__init__.py:36: FutureWarning: Conversion of the second argument of issubdtype from `float` to `np.floating` is deprecated. In future, it will be treated as `np.float64 == np.dtype(float).type`.\n",
      "  from ._conv import register_converters as _register_converters\n"
     ]
    },
    {
     "name": "stdout",
     "output_type": "stream",
     "text": [
      "(10,)\n",
      "[   20   572     7  1121    10  4418   169 10011     0     0]\n"
     ]
    }
   ],
   "source": [
    "import tensorflow as tf\n",
    "maxSeqLength = 10 #Maximum length of sentence\n",
    "numDimensions = 300 #Dimensions for each word vector\n",
    "firstSentence = np.zeros((maxSeqLength), dtype='int32')\n",
    "firstSentence[0] = wordsList.index(\"i\")\n",
    "firstSentence[1] = wordsList.index(\"thought\")\n",
    "firstSentence[2] = wordsList.index(\"the\")\n",
    "firstSentence[3] = wordsList.index(\"movie\")\n",
    "firstSentence[4] = wordsList.index(\"was\")\n",
    "firstSentence[5] = wordsList.index(\"incredible\")\n",
    "firstSentence[6] = wordsList.index(\"and\")\n",
    "firstSentence[7] = wordsList.index(\"inspiring\")\n",
    "#firstSentence[8] and firstSentence[9] are going to be 0\n",
    "print(firstSentence.shape)\n",
    "print(firstSentence) #Shows the row index for each word"
   ]
  },
  {
   "cell_type": "markdown",
   "metadata": {},
   "source": [
    "The data pipeline can be illustrated below."
   ]
  },
  {
   "cell_type": "markdown",
   "metadata": {},
   "source": [
    "![caption](Images/SentimentAnalysis5.png)"
   ]
  },
  {
   "cell_type": "markdown",
   "metadata": {},
   "source": [
    "The 10 x 50 output should contain the 50 dimensional word vectors for each of the 10 words in the sequence. "
   ]
  },
  {
   "cell_type": "code",
   "execution_count": 7,
   "metadata": {
    "collapsed": true,
    "scrolled": true
   },
   "outputs": [],
   "source": [
    "#with tf.Session() as sess:\n",
    "#    print(tf.nn.embedding_lookup(wordVectors,firstSentence).eval().shape)"
   ]
  },
  {
   "cell_type": "markdown",
   "metadata": {},
   "source": [
    "Before creating the ids matrix for the whole training set, let’s first take some time to visualize the type of data that we have. This will help us determine the best value for setting our maximum sequence length. In the previous example, we used a max length of 10, but this value is largely dependent on the inputs you have.  "
   ]
  },
  {
   "cell_type": "markdown",
   "metadata": {},
   "source": [
    "## Number of classes in the output. This will affect shape of labels in data and structure of the network"
   ]
  },
  {
   "cell_type": "code",
   "execution_count": 8,
   "metadata": {
    "collapsed": true
   },
   "outputs": [],
   "source": [
    "numClasses=5"
   ]
  },
  {
   "cell_type": "markdown",
   "metadata": {},
   "source": [
    "The training set we're going to use is the RottenTomatoes movie review dataset."
   ]
  },
  {
   "cell_type": "code",
   "execution_count": 9,
   "metadata": {
    "collapsed": true
   },
   "outputs": [],
   "source": [
    "from os import listdir\n",
    "from os.path import isfile, join\n",
    "import pandas as pd\n",
    "\n",
    "#trainset = pd.read_csv('input/train.tsv', sep='\\t')\n",
    "## Mix it up\n",
    "#trainset = trainset.sample(frac=1)\n",
    "#trainset.reindex()\n",
    "## Translate sentiment levels from 1-5 to positive (4,5) and negative(1,2,3)\n",
    "\n",
    "#trainset['BinarySentiment']=trainset.Sentiment.map(lambda s: s//4)\n",
    "\n",
    "## Get the word count\n",
    "#trainset['wc']=trainset.Phrase.map(lambda x: len(x.split()))\n",
    "\n",
    "#trainset.head()\n",
    "##trainset[trainset.Sentiment > 3].head()"
   ]
  },
  {
   "cell_type": "markdown",
   "metadata": {},
   "source": [
    "Instead of processing embeddings (time-consuming task, really), load them from pickles"
   ]
  },
  {
   "cell_type": "code",
   "execution_count": 10,
   "metadata": {
    "collapsed": true
   },
   "outputs": [],
   "source": [
    "trainset = pd.read_pickle('./trainset.pickle')\n",
    "testset = pd.read_pickle('./testset.pickle')"
   ]
  },
  {
   "cell_type": "markdown",
   "metadata": {},
   "source": [
    "Convert into a numpy array"
   ]
  },
  {
   "cell_type": "code",
   "execution_count": 11,
   "metadata": {},
   "outputs": [
    {
     "name": "stdout",
     "output_type": "stream",
     "text": [
      "(124848, 52)\n"
     ]
    }
   ],
   "source": [
    "print((len(trainset.index), trainset.emb.values[0].shape[0]))"
   ]
  },
  {
   "cell_type": "code",
   "execution_count": 12,
   "metadata": {},
   "outputs": [
    {
     "name": "stdout",
     "output_type": "stream",
     "text": [
      "count    124848.000000\n",
      "mean          7.201068\n",
      "std           7.015721\n",
      "min           0.000000\n",
      "25%           2.000000\n",
      "50%           5.000000\n",
      "75%          10.000000\n",
      "max          52.000000\n",
      "Name: wc, dtype: float64\n"
     ]
    },
    {
     "data": {
      "image/png": "[encoded data removed]",
      "text/plain": [
       "<matplotlib.figure.Figure at 0x7f46a80efba8>"
      ]
     },
     "metadata": {},
     "output_type": "display_data"
    }
   ],
   "source": [
    "print(trainset.wc.describe())\n",
    "import matplotlib.pyplot as plt\n",
    "%matplotlib inline\n",
    "plt.hist(trainset.wc, 100)\n",
    "plt.xlabel('Sequence Length')\n",
    "plt.ylabel('Frequency')\n",
    "plt.axis([0, 100, 0, 28000])\n",
    "plt.show()"
   ]
  },
  {
   "cell_type": "markdown",
   "metadata": {},
   "source": [
    "From the histogram as well as the average number of words per file, we can safely say that most reviews will fall under 10 words. However, with max word count of 52, we can just use that as a max length."
   ]
  },
  {
   "cell_type": "code",
   "execution_count": 13,
   "metadata": {
    "collapsed": true
   },
   "outputs": [],
   "source": [
    "maxSeqLength = 56"
   ]
  },
  {
   "cell_type": "markdown",
   "metadata": {},
   "source": [
    "Let's see how we can take a single review and transform it into our ids matrix. "
   ]
  },
  {
   "cell_type": "code",
   "execution_count": 14,
   "metadata": {
    "collapsed": true
   },
   "outputs": [],
   "source": [
    "# Removes punctuation, parentheses, question marks, etc., and leaves only alphanumeric characters\n",
    "import re\n",
    "strip_special_chars = re.compile(\"[^A-Za-z0-9 .,]+\")\n",
    "\n",
    "def cleanSentences(string):\n",
    "    return re.sub(strip_special_chars, \"\", string.lower())"
   ]
  },
  {
   "cell_type": "code",
   "execution_count": 15,
   "metadata": {
    "collapsed": true
   },
   "outputs": [],
   "source": [
    "miss_count=0\n",
    "def get_phrase_embedding(p):\n",
    "    global miss_count\n",
    "    indexCounter = 0\n",
    "    emb = np.zeros((maxSeqLength), dtype='int32')\n",
    "    cleanedLine = cleanSentences(p)\n",
    "    split = cleanedLine.split()\n",
    "    for word in split:\n",
    "        if indexCounter < maxSeqLength:\n",
    "            try:\n",
    "                emb[indexCounter]=wordsList.index(word)\n",
    "            except ValueError:\n",
    "                emb[indexCounter]=len(wordsList)-1\n",
    "                miss_count+=1\n",
    "            indexCounter += 1\n",
    "    return emb\n",
    "def get_phrase_embeddings(d):\n",
    "    return d.map(get_phrase_embedding)"
   ]
  },
  {
   "cell_type": "code",
   "execution_count": 16,
   "metadata": {
    "collapsed": true
   },
   "outputs": [],
   "source": [
    "from multiprocessing import cpu_count, Pool\n",
    "cores=cpu_count()\n",
    "partitions=cores\n",
    "def parallelize(data, func):\n",
    "    data_split = np.array_split(data, partitions)\n",
    "    pool = Pool(cores)\n",
    "    data = pd.concat(pool.map(func, data_split))\n",
    "    pool.close()\n",
    "    pool.join()\n",
    "    return data"
   ]
  },
  {
   "cell_type": "code",
   "execution_count": 17,
   "metadata": {
    "scrolled": true
   },
   "outputs": [
    {
     "name": "stdout",
     "output_type": "stream",
     "text": [
      "Saw 0 misses\n"
     ]
    }
   ],
   "source": [
    "miss_count=0\n",
    "trainset['emb']=parallelize(trainset.Phrase, get_phrase_embeddings)\n",
    "#trainset['emb']=trainset.Phrase.map(get_phrase_embedding)\n",
    "print(\"Saw %d misses\"%miss_count)\n",
    "#trainset.head(3)"
   ]
  },
  {
   "cell_type": "code",
   "execution_count": 18,
   "metadata": {},
   "outputs": [
    {
     "name": "stdout",
     "output_type": "stream",
     "text": [
      "Saw 0 misses\n"
     ]
    }
   ],
   "source": [
    "miss_count=0\n",
    "testset['emb']=parallelize(testset.Phrase, get_phrase_embeddings)\n",
    "#testset['emb']=testset.Phrase.map(get_phrase_embedding)\n",
    "print(\"Saw %d misses\"%miss_count)"
   ]
  },
  {
   "cell_type": "code",
   "execution_count": 42,
   "metadata": {},
   "outputs": [],
   "source": [
    "data={\n",
    "    'train' : {\n",
    "        'emb':    np.zeros((len(trainset.index), trainset.emb.values[0].shape[0]), dtype='int32'),\n",
    "        'labels': np.zeros((len(trainset.index), numClasses)),\n",
    "        'wc':np.zeros((len(trainset.index)), dtype='int32')\n",
    "    },\n",
    "    'test': {\n",
    "        'emb':    np.zeros((len(testset.index), testset.emb.values[0].shape[0]), dtype='int32'),\n",
    "        'labels': np.zeros((len(testset.index), numClasses)),\n",
    "        'wc':np.zeros((len(testset.index)), dtype='int32')\n",
    "    }\n",
    "}\n",
    "i=0\n",
    "for r in trainset.itertuples():\n",
    "    data['train']['emb'][i]=r.emb\n",
    "    data['train']['labels'][i][r.Sentiment]=1\n",
    "    data['train']['wc'][i]=r.wc\n",
    "    i+=1\n",
    "i=0\n",
    "for r in testset.itertuples():\n",
    "    data['test']['emb'][i]=r.emb\n",
    "    data['test']['labels'][i][r.Sentiment]=1\n",
    "    data['test']['wc'][i]=r.wc\n",
    "    i+=1\n",
    "#np.save('dataset.npy', data)"
   ]
  },
  {
   "cell_type": "code",
   "execution_count": 43,
   "metadata": {},
   "outputs": [
    {
     "data": {
      "text/plain": [
       "{'test': {'emb': array([[ 7618,     0,     0, ...,     0,     0,     0],\n",
       "         [    7,   721,   692, ...,     0,     0,     0],\n",
       "         [ 1228,    14,    27, ...,     0,     0,     0],\n",
       "         ...,\n",
       "         [14774,    59,     0, ...,     0,     0,     0],\n",
       "         [   12, 21359,     0, ...,     0,     0,     0],\n",
       "         [    3,  1280,  3108, ...,     0,     0,     0]], dtype=int32),\n",
       "  'labels': array([[0., 0., 1., 0., 0.],\n",
       "         [0., 0., 0., 1., 0.],\n",
       "         [0., 0., 1., 0., 0.],\n",
       "         ...,\n",
       "         [0., 0., 1., 0., 0.],\n",
       "         [0., 0., 1., 0., 0.],\n",
       "         [0., 1., 0., 0., 0.]]),\n",
       "  'wc': array([1, 5, 9, ..., 2, 2, 5], dtype=int32)},\n",
       " 'train': {'emb': array([[48211, 16145,     0, ...,     0,     0,     0],\n",
       "         [   27,  2308,  2215, ...,     0,     0,     0],\n",
       "         [   73,  3509,  1868, ...,     0,     0,     0],\n",
       "         ...,\n",
       "         [  169, 14421,  2333, ...,     0,     0,     0],\n",
       "         [ 2302,  7370,     3, ...,     0,     0,     0],\n",
       "         [  136,    27, 54555, ...,     0,     0,     0]], dtype=int32),\n",
       "  'labels': array([[0., 0., 1., 0., 0.],\n",
       "         [0., 0., 1., 0., 0.],\n",
       "         [0., 0., 0., 0., 1.],\n",
       "         ...,\n",
       "         [0., 0., 1., 0., 0.],\n",
       "         [0., 0., 0., 1., 0.],\n",
       "         [0., 0., 0., 0., 1.]]),\n",
       "  'wc': array([ 2,  4,  5, ...,  3,  6, 13], dtype=int32)}}"
      ]
     },
     "execution_count": 43,
     "metadata": {},
     "output_type": "execute_result"
    }
   ],
   "source": [
    "data"
   ]
  },
  {
   "cell_type": "code",
   "execution_count": 44,
   "metadata": {},
   "outputs": [
    {
     "data": {
      "text/plain": [
       "(56,)"
      ]
     },
     "execution_count": 44,
     "metadata": {},
     "output_type": "execute_result"
    }
   ],
   "source": [
    "data['train']['emb'][0].shape"
   ]
  },
  {
   "cell_type": "markdown",
   "metadata": {},
   "source": [
    "Create teset set by sampling train set, and dropping data from train set"
   ]
  },
  {
   "cell_type": "code",
   "execution_count": 45,
   "metadata": {
    "collapsed": true
   },
   "outputs": [],
   "source": [
    "#testset=trainset.sample(frac=0.2)\n",
    "#trainset.drop(testset.index, inplace=True)\n",
    "\n",
    "testset.to_pickle('./testset.pickle')\n",
    "trainset.to_pickle('./trainset.pickle')"
   ]
  },
  {
   "cell_type": "code",
   "execution_count": 46,
   "metadata": {},
   "outputs": [
    {
     "name": "stdout",
     "output_type": "stream",
     "text": [
      "124848 31212\n",
      "156060\n",
      "(124848,)\n"
     ]
    }
   ],
   "source": [
    "print(len(trainset.index), len(testset.index))\n",
    "print(len(trainset.index) + len(testset.index))\n",
    "print(trainset.emb.values.shape)"
   ]
  },
  {
   "cell_type": "markdown",
   "metadata": {},
   "source": [
    "# Helper Functions"
   ]
  },
  {
   "cell_type": "markdown",
   "metadata": {},
   "source": [
    "Below you can find a couple of helper functions that will be useful when training the network in a later step. "
   ]
  },
  {
   "cell_type": "code",
   "execution_count": 47,
   "metadata": {
    "collapsed": true
   },
   "outputs": [],
   "source": [
    "def getBatch(source, batchSize=128):\n",
    "    i=0\n",
    "    while i < source['labels'].shape[0]:\n",
    "        start=i\n",
    "        end=i+batchSize\n",
    "        if end > source['labels'].shape[0]:\n",
    "            end=source['labels'].shape[0]\n",
    "        i=end\n",
    "        yield source['labels'][start:end], source['emb'][start:end], source['wc'][start:end]"
   ]
  },
  {
   "cell_type": "markdown",
   "metadata": {},
   "source": [
    "# RNN Model"
   ]
  },
  {
   "cell_type": "markdown",
   "metadata": {},
   "source": [
    "Now, we’re ready to start creating our Tensorflow graph. We’ll first need to define some hyperparameters, such as batch size, number of LSTM units, number of output classes, and number of training iterations. "
   ]
  },
  {
   "cell_type": "code",
   "execution_count": 68,
   "metadata": {},
   "outputs": [
    {
     "name": "stdout",
     "output_type": "stream",
     "text": [
      "Iterations: 9753\n"
     ]
    }
   ],
   "source": [
    "batchSize = 128\n",
    "lstmUnits = 64\n",
    "cnnFilterSizes = [3, 4, 5]\n",
    "cnnFilters = 64\n",
    "dropout_prob = 0.5\n",
    "#numClasses = 5 # See way up above for setting this..\n",
    "maxSeqLength = 56\n",
    "epoch = len(trainset.index)/batchSize\n",
    "iterations = int(epoch * 15)\n",
    "print(\"Iterations:\", iterations)"
   ]
  },
  {
   "cell_type": "markdown",
   "metadata": {},
   "source": [
    "As with most Tensorflow graphs, we’ll now need to specify two placeholders, one for the inputs into the network, and one for the labels. The most important part about defining these placeholders is understanding each of their dimensionalities. "
   ]
  },
  {
   "cell_type": "markdown",
   "metadata": {},
   "source": [
    "The labels placeholder represents a set of values, encoded as onehot vectors of length 5. Each row in the integerized input placeholder represents the integerized representation of each training example that we include in our batch."
   ]
  },
  {
   "cell_type": "markdown",
   "metadata": {},
   "source": [
    "![caption](Images/SentimentAnalysis12.png)"
   ]
  },
  {
   "cell_type": "code",
   "execution_count": 49,
   "metadata": {},
   "outputs": [
    {
     "name": "stdout",
     "output_type": "stream",
     "text": [
      "Tensor(\"IteratorGetNext:0\", shape=(?, 5), dtype=float64) Tensor(\"IteratorGetNext:1\", shape=(?, 56), dtype=int32) Tensor(\"IteratorGetNext:2\", shape=(?,), dtype=int32)\n"
     ]
    }
   ],
   "source": [
    "import tensorflow as tf\n",
    "tf.reset_default_graph()\n",
    "sess = tf.Session(config=tf.ConfigProto(\n",
    "    log_device_placement=True))\n",
    "\n",
    "class RTSentimentData:\n",
    "    def __init__(self, source):\n",
    "        self.source=source\n",
    "        self.batch_size=batchSize\n",
    "        emb = self.source['emb']\n",
    "        labels = source['labels']\n",
    "        wc = source['wc']\n",
    "        self.emb_ph = tf.placeholder(emb.dtype, emb.shape, name='emb_ph')\n",
    "        self.label_ph = tf.placeholder(labels.dtype, labels.shape, name='label_ph')\n",
    "        self.wc_ph = tf.placeholder(wc.dtype, wc.shape, name='wc_ph')\n",
    "        self.dataset = tf.data.Dataset.from_tensor_slices(\n",
    "            (self.label_ph, self.emb_ph, self.wc_ph)\n",
    "        ).apply(tf.contrib.data.shuffle_and_repeat(self.batch_size*8)).batch(self.batch_size).prefetch(self.batch_size*4)\n",
    "        self.iterator = self.dataset.make_initializable_iterator()\n",
    "        self.labels, self.input_data, self.wc = self.iterator.get_next()\n",
    "        print(self.labels, self.input_data, self.wc)\n",
    "\n",
    "    def _data_generator(self):\n",
    "        for r in self.source.itertuples():\n",
    "            l = [0, 0, 0, 0, 0]\n",
    "            l[r.Sentiment]=1\n",
    "            yield l, r.emb\n",
    "\n",
    "    def restart(self):\n",
    "        sess.run(self.iterator.initializer,\n",
    "                 feed_dict={\n",
    "                     self.label_ph:self.source['labels'],\n",
    "                     self.emb_ph:self.source['emb'],\n",
    "                     self.wc_ph:self.source['wc']\n",
    "                 })\n",
    "\n",
    "traindata = RTSentimentData(data['train'])\n",
    "traindata.restart()\n",
    "labels = traindata.labels\n",
    "input_data = traindata.input_data\n",
    "\n",
    "#labels = tf.placeholder(tf.float32, [batchSize, numClasses])\n",
    "#input_data = tf.placeholder(tf.int32, [batchSize, maxSeqLength])"
   ]
  },
  {
   "cell_type": "markdown",
   "metadata": {},
   "source": [
    "Once we have our input data placeholder, we’re going to call the tf.nn.lookup() function in order to get our word vectors. The call to that function will return a 3-D Tensor of dimensionality batch size by max sequence length by word vector dimensions. In order to visualize this 3-D tensor, you can simply think of each data point in the integerized input tensor as the corresponding D dimensional vector that it refers to. \n"
   ]
  },
  {
   "cell_type": "markdown",
   "metadata": {},
   "source": [
    "![caption](Images/SentimentAnalysis13.png)"
   ]
  },
  {
   "cell_type": "code",
   "execution_count": 50,
   "metadata": {
    "collapsed": true
   },
   "outputs": [],
   "source": [
    "with tf.device('CPU:0'):\n",
    "    embeddings_ph = tf.placeholder(tf.float32, wordVectors.shape, name='wordEmbeddings_ph')\n",
    "    embeddings_var = tf.Variable(embeddings_ph, trainable=False, name='wordEmbeddings')\n",
    "    embeddings = tf.nn.embedding_lookup(embeddings_var,input_data)\n",
    "    #embeddings = tf.Print(embeddings, [embeddings], \"Embeddings\", 10)"
   ]
  },
  {
   "cell_type": "code",
   "execution_count": 51,
   "metadata": {},
   "outputs": [
    {
     "data": {
      "text/plain": [
       "TensorShape([Dimension(None), Dimension(56), Dimension(300)])"
      ]
     },
     "execution_count": 51,
     "metadata": {},
     "output_type": "execute_result"
    }
   ],
   "source": [
    "embeddings.shape"
   ]
  },
  {
   "cell_type": "markdown",
   "metadata": {},
   "source": [
    "Now that we have the data in the format that we want, let’s look at how we can feed this input into an LSTM network. We’re going to call the tf.nn.rnn_cell.BasicLSTMCell function. This function takes in an integer for the number of LSTM units that we want. This is one of the hyperparameters that will take some tuning to figure out the optimal value. We’ll then wrap that LSTM cell in a dropout layer to help prevent the network from overfitting. "
   ]
  },
  {
   "cell_type": "markdown",
   "metadata": {},
   "source": [
    "Finally, we’ll feed both the LSTM cell and the 3-D tensor full of input data into a function called tf.nn.dynamic_rnn. This function is in charge of unrolling the whole network and creating a pathway for the data to flow through the RNN graph."
   ]
  },
  {
   "cell_type": "code",
   "execution_count": 52,
   "metadata": {},
   "outputs": [],
   "source": [
    "lstmCell = tf.contrib.rnn.LSTMCell(lstmUnits)\n",
    "#lstmCell = tf.contrib.rnn.DropoutWrapper(cell=lstmCell, output_keep_prob=0.75)\n",
    "lstm_out, lstm_state = tf.nn.dynamic_rnn(lstmCell, embeddings, sequence_length=traindata.wc, dtype=tf.float32)"
   ]
  },
  {
   "cell_type": "code",
   "execution_count": 53,
   "metadata": {},
   "outputs": [
    {
     "name": "stdout",
     "output_type": "stream",
     "text": [
      "(?, 56, 64)\n",
      "LSTMStateTuple(c=<tf.Tensor 'rnn/while/Exit_3:0' shape=(?, 64) dtype=float32>, h=<tf.Tensor 'rnn/while/Exit_4:0' shape=(?, 64) dtype=float32>)\n",
      "<tensorflow.python.ops.rnn_cell_impl.LSTMCell object at 0x7f44c728def0>\n"
     ]
    }
   ],
   "source": [
    "print(lstm_out.shape)\n",
    "print(lstm_state)\n",
    "print(lstmCell)"
   ]
  },
  {
   "cell_type": "markdown",
   "metadata": {},
   "source": [
    "Now, let's add some CNN layers"
   ]
  },
  {
   "cell_type": "code",
   "execution_count": 54,
   "metadata": {
    "collapsed": true
   },
   "outputs": [],
   "source": [
    "lstm_out_expanded = tf.expand_dims(lstm_out, -1)\n",
    "embedding_size = wordVectors.shape[-1]\n",
    "pooled_outputs = []\n",
    "for i, filter_size in enumerate(cnnFilterSizes):\n",
    "    with tf.name_scope(\"conv-maxpool-%s\" % filter_size):\n",
    "        # CONVOLUTION LAYER\n",
    "        filter_shape = [filter_size, lstmUnits, 1, cnnFilters]\n",
    "        W = tf.Variable(tf.truncated_normal(filter_shape, stddev=0.1), name=\"W\")\n",
    "        b = tf.Variable(tf.constant(0.1, shape=[cnnFilters]), name=\"b\")\n",
    "        ## Could this just be conv1d instead?\n",
    "        conv = tf.nn.conv2d(\n",
    "            input=lstm_out_expanded,\n",
    "            filter=W,\n",
    "            strides=[1, 1, 1, 1],padding=\"VALID\",name=\"conv\")\n",
    "        # NON-LINEARITY\n",
    "        h = tf.nn.relu(tf.nn.bias_add(conv, b), name=\"relu\")\n",
    "        # MAXPOOLING\n",
    "        pooled = tf.nn.max_pool(h, ksize=[1, maxSeqLength - filter_size + 1, 1, 1], strides=[1, 1, 1, 1], padding='VALID', name=\"pool\")\n",
    "        pooled_outputs.append(pooled)\n",
    "\n",
    "# COMBINING POOLED FEATURES\n",
    "num_filters_total = cnnFilters * len(cnnFilterSizes)\n",
    "h_pool = tf.concat(pooled_outputs, 3)\n",
    "h_pool_flat = tf.reshape(h_pool, [-1, num_filters_total])\n",
    "        \n",
    "# #3. DROPOUT LAYER ###################################################################\n",
    "with tf.name_scope(\"dropout\"):\n",
    "    h_drop = tf.nn.dropout(h_pool_flat, dropout_prob)\n"
   ]
  },
  {
   "cell_type": "markdown",
   "metadata": {},
   "source": [
    "As a side note, another more advanced network architecture choice is to stack multiple LSTM cells on top of each other. This is where the final hidden state vector of the first LSTM feeds into the second. Stacking these cells is a great way to help the model retain more long term dependence information, but also introduces more parameters into the model, thus possibly increasing the training time, the need for additional training examples, and the chance of overfitting. For more information on how you can add stacked LSTMs to your model, check out Tensorflow's excellent [documentation](https://www.tensorflow.org/tutorials/recurrent#stacking_multiple_lstms)."
   ]
  },
  {
   "cell_type": "markdown",
   "metadata": {},
   "source": [
    "The first output of the dynamic RNN function can be thought of as the last hidden state vector. This vector will be reshaped and then multiplied by a final weight matrix and a bias term to obtain the final output values."
   ]
  },
  {
   "cell_type": "code",
   "execution_count": 55,
   "metadata": {
    "collapsed": true
   },
   "outputs": [],
   "source": [
    "weight = tf.Variable(tf.truncated_normal([num_filters_total, numClasses]))\n",
    "bias = tf.Variable(tf.constant(0.1, shape=[numClasses]))\n",
    "\n",
    "l2_loss = tf.nn.l2_loss(weight)+tf.nn.l2_loss(bias)\n",
    "scores = tf.nn.xw_plus_b(h_drop, weight, bias, name=\"scores\")\n",
    "prediction = scores\n",
    "\n",
    "#value = tf.transpose(value, [1, 0, 2])\n",
    "#last = tf.gather(value, int(value.get_shape()[0]) - 1)\n",
    "#prediction = (tf.matmul(last, weight) + bias)"
   ]
  },
  {
   "cell_type": "markdown",
   "metadata": {},
   "source": [
    "Next, we’ll define correct prediction and accuracy metrics to track how the network is doing. The correct prediction formulation works by looking at the index of the maximum value of the 2 output values, and then seeing whether it matches with the training labels. "
   ]
  },
  {
   "cell_type": "code",
   "execution_count": 56,
   "metadata": {
    "collapsed": true
   },
   "outputs": [],
   "source": [
    "correctPred = tf.equal(tf.argmax(prediction,1), tf.argmax(labels,1))\n",
    "accuracy = tf.reduce_mean(tf.cast(correctPred, tf.float32))"
   ]
  },
  {
   "cell_type": "markdown",
   "metadata": {},
   "source": [
    "We’ll define a standard cross entropy loss with a softmax layer put on top of the final prediction values. For the optimizer, we’ll use Adam and the default learning rate of .001. "
   ]
  },
  {
   "cell_type": "code",
   "execution_count": 57,
   "metadata": {
    "collapsed": true
   },
   "outputs": [],
   "source": [
    "loss = tf.reduce_mean(tf.nn.softmax_cross_entropy_with_logits_v2(logits=prediction, labels=labels))\n",
    "optimizer = tf.train.AdamOptimizer().minimize(loss+l2_loss)"
   ]
  },
  {
   "cell_type": "markdown",
   "metadata": {},
   "source": [
    "If you’d like to use Tensorboard to visualize the loss and accuracy values, you can also run and the modify the following code. "
   ]
  },
  {
   "cell_type": "code",
   "execution_count": 58,
   "metadata": {
    "collapsed": true
   },
   "outputs": [],
   "source": [
    "import datetime\n",
    "tf.summary.scalar('Loss', loss)\n",
    "tf.summary.scalar('Accuracy', accuracy)\n",
    "merged = tf.summary.merge_all()\n",
    "logdir = \"tensorboard/\" + datetime.datetime.now().strftime(\"%Y%m%d-%H%M%S\") + \"/\"\n",
    "writer = tf.summary.FileWriter(logdir, sess.graph)"
   ]
  },
  {
   "cell_type": "markdown",
   "metadata": {},
   "source": [
    "# Hyperparameter Tuning"
   ]
  },
  {
   "cell_type": "markdown",
   "metadata": {},
   "source": [
    "Choosing the right values for your hyperparameters is a crucial part of training deep neural networks effectively. You'll find that your training loss curves can vary with your choice of optimizer (Adam, Adadelta, SGD, etc), learning rate, and network architecture. With RNNs and LSTMs in particular, some other important factors include the number of LSTM units and the size of the word vectors.\n",
    "\n",
    "* Learning Rate: RNNs are infamous for being diffult to train because of the large number of time steps they have. Learning rate becomes extremely important since we don't want our weight values to fluctuate wildly as a result of a large learning rate, nor do we want a slow training process due to a low learning rate. The default value of 0.001 is a good place to start. You should increase this value if the training loss is changing very slowly, and decrease if the loss is unstable.  \n",
    "* Optimizer: There isn't a consensus choice among researchers, but Adam has been widely popular due to having the adaptive learning rate property (Keep in mind that optimal learning rates can differ with the choice of optimizer).\n",
    "* Number of LSTM units: This value is largely dependent on the average length of your input texts. While a greater number of units provides more expressibility for the model and allows the model to store more information for longer texts, the network will take longer to train and will be computationally expensive. \n",
    "* Word Vector Size: Dimensions for word vectors generally range from 50 to 300. A larger size means that the vector is able to encapsulate more information about the word, but you should also expect a more computationally expensive model. "
   ]
  },
  {
   "cell_type": "markdown",
   "metadata": {},
   "source": [
    "# Training"
   ]
  },
  {
   "cell_type": "markdown",
   "metadata": {},
   "source": [
    "The basic idea of the training loop is that we first define a Tensorflow session. Then, we load in a batch of reviews and their associated labels. Next, we call the session’s `run` function. This function has two arguments. The first is called the \"fetches\" argument. It defines the value we’re interested in computing. We want our optimizer to be computed since that is the component that minimizes our loss function. The second argument is where we input our `feed_dict`. This data structure is where we provide inputs to all of our placeholders. We need to feed our batch of reviews and our batch of labels. This loop is then repeated for a set number of training iterations."
   ]
  },
  {
   "cell_type": "markdown",
   "metadata": {},
   "source": [
    "Before starting the training, we'll clean up whatever memory is no longer needed, as memory requirements of the training can be quite serious."
   ]
  },
  {
   "cell_type": "code",
   "execution_count": 59,
   "metadata": {},
   "outputs": [
    {
     "data": {
      "text/plain": [
       "0"
      ]
     },
     "execution_count": 59,
     "metadata": {},
     "output_type": "execute_result"
    }
   ],
   "source": [
    "import gc\n",
    "gc.collect()"
   ]
  },
  {
   "cell_type": "markdown",
   "metadata": {},
   "source": [
    "If you decide to train this notebook on your own machine, note that you can track its progress using [TensorBoard](https://www.tensorflow.org/get_started/summaries_and_tensorboard). While the following cell is running, use your terminal to enter the directory that contains this notebook, enter `tensorboard --logdir=tensorboard`, and visit http://localhost:6006/ with a browser to keep an eye on your training progress."
   ]
  },
  {
   "cell_type": "code",
   "execution_count": 60,
   "metadata": {},
   "outputs": [
    {
     "name": "stdout",
     "output_type": "stream",
     "text": [
      "[[ 1.1291504e-03 -8.9645386e-04  3.1852722e-04 ... -1.5640259e-03\n",
      "  -1.2302399e-04 -8.6307526e-05]\n",
      " [ 7.0312500e-02  8.6914062e-02  8.7890625e-02 ... -4.7607422e-02\n",
      "   1.4465332e-02 -6.2500000e-02]\n",
      " [-1.1779785e-02 -4.7363281e-02  4.4677734e-02 ...  7.1289062e-02\n",
      "  -3.4912109e-02  2.4169922e-02]\n",
      " ...\n",
      " [-1.9653320e-02 -9.0820312e-02 -1.9409180e-02 ... -1.6357422e-02\n",
      "  -1.3427734e-02  4.6630859e-02]\n",
      " [ 3.2714844e-02 -3.2226562e-02  3.6132812e-02 ... -8.8500977e-03\n",
      "   2.6977539e-02  1.9042969e-02]\n",
      " [ 4.5166016e-02 -4.5166016e-02 -3.9367676e-03 ...  7.9589844e-02\n",
      "   7.2265625e-02  1.3000488e-02]]\n"
     ]
    }
   ],
   "source": [
    "#sess = tf.InteractiveSession()\n",
    "saver = tf.train.Saver()\n",
    "sess.run(tf.global_variables_initializer(), feed_dict={embeddings_ph:wordVectors})\n",
    "print(sess.run(embeddings_var))\n"
   ]
  },
  {
   "cell_type": "code",
   "execution_count": 61,
   "metadata": {},
   "outputs": [
    {
     "name": "stdout",
     "output_type": "stream",
     "text": [
      "saved to models/pretrained_lstm.ckpt-9752\n"
     ]
    }
   ],
   "source": [
    "print('Training for %d iterations'%iterations)\n",
    "for i in range( iterations):\n",
    "    #Next Batch of reviews\n",
    "    #extBatch, nextBatchLabels = getBatch(trainset);\n",
    "    sess.run(optimizer)\n",
    "   \n",
    "    #Write summary to Tensorboard\n",
    "    if (i % 50 == 0):\n",
    "        summary = sess.run(merged)\n",
    "        writer.add_summary(summary, i)\n",
    "\n",
    "    #Save the network every 10,000 training iterations\n",
    "    #if (i % 10000 == 0 and i != 0):\n",
    "    #    save_path = saver.save(sess, \"models/pretrained_lstm.ckpt\", global_step=i)\n",
    "    #    print(\"saved to %s\" % save_path)\n",
    "\n",
    "save_path = saver.save(sess, \"models/pretrained_lstm.ckpt\", global_step=i)\n",
    "print(\"saved to %s\" % save_path)"
   ]
  },
  {
   "cell_type": "markdown",
   "metadata": {},
   "source": [
    "# Loading a Pretrained Model"
   ]
  },
  {
   "cell_type": "markdown",
   "metadata": {},
   "source": [
    "Our pretrained model’s accuracy and loss curves during training can be found below. "
   ]
  },
  {
   "cell_type": "markdown",
   "metadata": {},
   "source": [
    "![caption](Images/SentimentAnalysis6.png)\n",
    "![caption](Images/SentimentAnalysis7.png)"
   ]
  },
  {
   "cell_type": "markdown",
   "metadata": {},
   "source": [
    "Looking at the training curves above, it seems that the model's training is going well. The loss is decreasing steadily, and the accuracy is approaching 100 percent. However, when analyzing training curves, we should also pay special attention to the possibility of our model overfitting the training dataset. Overfitting is a common phenomenon in machine learning where a model becomes so fit to the training data that it loses the ability to generalize to the test set. This means that training a network until you achieve 0 training loss might not be the best way to get an accurate model that performs well on data it has never seen before. Early stopping is an intuitive technique commonly used with LSTM networks to combat this issue. The basic idea is that we train the model on our training set, while also measuring its performance on the test set every now and again. Once the test error stops its steady decrease and begins to increase instead, you'll know to stop training, since this is a sign that the network has begun to overfit. "
   ]
  },
  {
   "cell_type": "markdown",
   "metadata": {},
   "source": [
    "Loading a pretrained model involves defining another Tensorflow session, creating a Saver object, and then using that object to call the restore function. This function takes into 2 arguments, one for the current session, and one for the name of the saved model. "
   ]
  },
  {
   "cell_type": "code",
   "execution_count": 62,
   "metadata": {
    "collapsed": true
   },
   "outputs": [],
   "source": [
    "#sess = tf.InteractiveSession()\n",
    "#saver = tf.train.Saver()\n",
    "#saver.restore(sess, tf.train.latest_checkpoint('models'))"
   ]
  },
  {
   "cell_type": "markdown",
   "metadata": {},
   "source": [
    "Then we’ll load some movie reviews from our test set. Remember, these are reviews that the model has not been trained on and has never seen before. The accuracy for each test batch can be seen when you run the following code. "
   ]
  },
  {
   "cell_type": "code",
   "execution_count": 65,
   "metadata": {},
   "outputs": [
    {
     "name": "stdout",
     "output_type": "stream",
     "text": [
      "Accuracy for this batch: 73.4375\n",
      "Accuracy for this batch: 70.3125\n",
      "Accuracy for this batch: 67.96875\n",
      "Accuracy for this batch: 65.625\n",
      "Accuracy for this batch: 67.96875\n",
      "Accuracy for this batch: 67.1875\n",
      "Accuracy for this batch: 69.53125\n",
      "Accuracy for this batch: 61.71875\n",
      "Accuracy for this batch: 77.34375\n",
      "Accuracy for this batch: 68.75\n",
      "Accuracy for this batch: 71.875\n",
      "Accuracy for this batch: 64.0625\n",
      "Accuracy for this batch: 67.96875\n",
      "Accuracy for this batch: 71.875\n",
      "Accuracy for this batch: 66.40625\n",
      "Accuracy for this batch: 77.34375\n",
      "Accuracy for this batch: 67.1875\n",
      "Accuracy for this batch: 67.1875\n",
      "Accuracy for this batch: 71.875\n",
      "Accuracy for this batch: 71.09375\n",
      "Accuracy for this batch: 73.4375\n",
      "Accuracy for this batch: 69.53125\n",
      "Accuracy for this batch: 68.75\n",
      "Accuracy for this batch: 77.34375\n",
      "Accuracy for this batch: 65.625\n",
      "Accuracy for this batch: 67.1875\n",
      "Accuracy for this batch: 69.53125\n",
      "Accuracy for this batch: 64.84375\n",
      "Accuracy for this batch: 71.875\n",
      "Accuracy for this batch: 71.875\n",
      "Accuracy for this batch: 71.875\n",
      "Accuracy for this batch: 64.0625\n",
      "Accuracy for this batch: 71.875\n",
      "Accuracy for this batch: 70.3125\n",
      "Accuracy for this batch: 71.09375\n",
      "Accuracy for this batch: 74.21875\n",
      "Accuracy for this batch: 70.3125\n",
      "Accuracy for this batch: 69.53125\n",
      "Accuracy for this batch: 67.1875\n",
      "Accuracy for this batch: 70.3125\n",
      "Accuracy for this batch: 68.75\n",
      "Accuracy for this batch: 64.84375\n",
      "Accuracy for this batch: 68.75\n",
      "Accuracy for this batch: 69.53125\n",
      "Accuracy for this batch: 67.96875\n",
      "Accuracy for this batch: 74.21875\n",
      "Accuracy for this batch: 63.28125\n",
      "Accuracy for this batch: 67.1875\n",
      "Accuracy for this batch: 67.96875\n",
      "Accuracy for this batch: 69.53125\n",
      "Accuracy for this batch: 67.1875\n",
      "Accuracy for this batch: 73.4375\n",
      "Accuracy for this batch: 67.1875\n",
      "Accuracy for this batch: 75.0\n",
      "Accuracy for this batch: 66.40625\n",
      "Accuracy for this batch: 71.875\n",
      "Accuracy for this batch: 64.84375\n",
      "Accuracy for this batch: 71.875\n",
      "Accuracy for this batch: 71.875\n",
      "Accuracy for this batch: 68.75\n",
      "Accuracy for this batch: 68.75\n",
      "Accuracy for this batch: 70.3125\n",
      "Accuracy for this batch: 63.28125\n",
      "Accuracy for this batch: 74.21875\n",
      "Accuracy for this batch: 75.0\n",
      "Accuracy for this batch: 68.75\n",
      "Accuracy for this batch: 67.96875\n",
      "Accuracy for this batch: 64.84375\n",
      "Accuracy for this batch: 75.78125\n",
      "Accuracy for this batch: 66.40625\n",
      "Accuracy for this batch: 67.1875\n",
      "Accuracy for this batch: 74.21875\n",
      "Accuracy for this batch: 72.65625\n",
      "Accuracy for this batch: 67.96875\n",
      "Accuracy for this batch: 63.28125\n",
      "Accuracy for this batch: 71.875\n",
      "Accuracy for this batch: 69.53125\n",
      "Accuracy for this batch: 73.4375\n",
      "Accuracy for this batch: 67.96875\n",
      "Accuracy for this batch: 75.0\n",
      "Accuracy for this batch: 70.3125\n",
      "Accuracy for this batch: 67.1875\n",
      "Accuracy for this batch: 69.53125\n",
      "Accuracy for this batch: 53.125\n",
      "Accuracy for this batch: 72.65625\n",
      "Accuracy for this batch: 75.78125\n",
      "Accuracy for this batch: 67.96875\n",
      "Accuracy for this batch: 74.21875\n",
      "Accuracy for this batch: 71.09375\n",
      "Accuracy for this batch: 65.625\n",
      "Accuracy for this batch: 67.96875\n",
      "Accuracy for this batch: 69.53125\n",
      "Accuracy for this batch: 70.3125\n",
      "Accuracy for this batch: 67.96875\n",
      "Accuracy for this batch: 61.71875\n",
      "Accuracy for this batch: 69.53125\n",
      "Accuracy for this batch: 70.3125\n",
      "Accuracy for this batch: 76.5625\n",
      "Accuracy for this batch: 71.09375\n",
      "Accuracy for this batch: 70.3125\n",
      "Accuracy for this batch: 67.1875\n",
      "Accuracy for this batch: 68.75\n",
      "Accuracy for this batch: 74.21875\n",
      "Accuracy for this batch: 74.21875\n",
      "Accuracy for this batch: 67.96875\n",
      "Accuracy for this batch: 66.40625\n",
      "Accuracy for this batch: 77.34375\n",
      "Accuracy for this batch: 75.78125\n",
      "Accuracy for this batch: 71.09375\n",
      "Accuracy for this batch: 69.53125\n",
      "Accuracy for this batch: 71.09375\n",
      "Accuracy for this batch: 66.40625\n",
      "Accuracy for this batch: 73.4375\n",
      "Accuracy for this batch: 64.0625\n",
      "Accuracy for this batch: 68.75\n",
      "Accuracy for this batch: 72.65625\n",
      "Accuracy for this batch: 70.3125\n",
      "Accuracy for this batch: 67.1875\n",
      "Accuracy for this batch: 71.09375\n",
      "Accuracy for this batch: 67.96875\n",
      "Accuracy for this batch: 68.75\n",
      "Accuracy for this batch: 75.0\n",
      "Accuracy for this batch: 67.1875\n",
      "Accuracy for this batch: 72.65625\n",
      "Accuracy for this batch: 76.5625\n",
      "Accuracy for this batch: 71.875\n",
      "Accuracy for this batch: 75.78125\n",
      "Accuracy for this batch: 76.5625\n",
      "Accuracy for this batch: 57.8125\n",
      "Accuracy for this batch: 75.0\n",
      "Accuracy for this batch: 71.875\n",
      "Accuracy for this batch: 74.21875\n",
      "Accuracy for this batch: 64.0625\n",
      "Accuracy for this batch: 64.84375\n",
      "Accuracy for this batch: 75.0\n",
      "Accuracy for this batch: 66.40625\n",
      "Accuracy for this batch: 70.3125\n",
      "Accuracy for this batch: 60.9375\n",
      "Accuracy for this batch: 67.1875\n",
      "Accuracy for this batch: 67.1875\n",
      "Accuracy for this batch: 66.40625\n",
      "Accuracy for this batch: 72.65625\n",
      "Accuracy for this batch: 77.34375\n",
      "Accuracy for this batch: 76.5625\n",
      "Accuracy for this batch: 71.875\n",
      "Accuracy for this batch: 67.96875\n",
      "Accuracy for this batch: 69.53125\n",
      "Accuracy for this batch: 71.875\n",
      "Accuracy for this batch: 70.3125\n",
      "Accuracy for this batch: 64.84375\n",
      "Accuracy for this batch: 69.53125\n",
      "Accuracy for this batch: 71.09375\n",
      "Accuracy for this batch: 64.84375\n",
      "Accuracy for this batch: 67.96875\n",
      "Accuracy for this batch: 73.4375\n",
      "Accuracy for this batch: 77.34375\n",
      "Accuracy for this batch: 71.09375\n",
      "Accuracy for this batch: 67.1875\n",
      "Accuracy for this batch: 61.71875\n",
      "Accuracy for this batch: 68.75\n",
      "Accuracy for this batch: 72.65625\n",
      "Accuracy for this batch: 71.875\n",
      "Accuracy for this batch: 72.65625\n",
      "Accuracy for this batch: 71.875\n",
      "Accuracy for this batch: 67.96875\n",
      "Accuracy for this batch: 71.875\n",
      "Accuracy for this batch: 64.84375\n",
      "Accuracy for this batch: 64.84375\n",
      "Accuracy for this batch: 78.90625\n",
      "Accuracy for this batch: 74.21875\n",
      "Accuracy for this batch: 62.5\n",
      "Accuracy for this batch: 67.1875\n",
      "Accuracy for this batch: 63.28125\n",
      "Accuracy for this batch: 67.1875\n",
      "Accuracy for this batch: 73.4375\n",
      "Accuracy for this batch: 72.65625\n",
      "Accuracy for this batch: 68.75\n",
      "Accuracy for this batch: 71.875\n",
      "Accuracy for this batch: 71.875\n",
      "Accuracy for this batch: 64.84375\n",
      "Accuracy for this batch: 75.0\n",
      "Accuracy for this batch: 67.1875\n",
      "Accuracy for this batch: 69.53125\n",
      "Accuracy for this batch: 67.1875\n",
      "Accuracy for this batch: 69.53125\n",
      "Accuracy for this batch: 75.78125\n",
      "Accuracy for this batch: 66.40625\n",
      "Accuracy for this batch: 66.40625\n",
      "Accuracy for this batch: 70.3125\n",
      "Accuracy for this batch: 64.84375\n",
      "Accuracy for this batch: 70.3125\n",
      "Accuracy for this batch: 70.3125\n",
      "Accuracy for this batch: 69.53125\n",
      "Accuracy for this batch: 71.875\n",
      "Accuracy for this batch: 64.0625\n",
      "Accuracy for this batch: 68.75\n",
      "Accuracy for this batch: 69.53125\n",
      "Accuracy for this batch: 67.1875\n",
      "Accuracy for this batch: 64.0625\n",
      "Accuracy for this batch: 72.65625\n",
      "Accuracy for this batch: 69.53125\n",
      "Accuracy for this batch: 67.1875\n",
      "Accuracy for this batch: 59.375\n",
      "Accuracy for this batch: 69.53125\n",
      "Accuracy for this batch: 65.625\n",
      "Accuracy for this batch: 64.0625\n",
      "Accuracy for this batch: 69.53125\n",
      "Accuracy for this batch: 75.0\n",
      "Accuracy for this batch: 65.625\n",
      "Accuracy for this batch: 75.78125\n",
      "Accuracy for this batch: 70.3125\n",
      "Accuracy for this batch: 65.625\n",
      "Accuracy for this batch: 70.3125\n",
      "Accuracy for this batch: 59.375\n",
      "Accuracy for this batch: 66.40625\n",
      "Accuracy for this batch: 62.5\n",
      "Accuracy for this batch: 56.25\n",
      "Accuracy for this batch: 68.75\n",
      "Accuracy for this batch: 71.875\n",
      "Accuracy for this batch: 67.1875\n",
      "Accuracy for this batch: 71.09375\n",
      "Accuracy for this batch: 68.75\n",
      "Accuracy for this batch: 66.40625\n",
      "Accuracy for this batch: 70.3125\n",
      "Accuracy for this batch: 67.1875\n",
      "Accuracy for this batch: 71.875\n",
      "Accuracy for this batch: 71.875\n",
      "Accuracy for this batch: 66.40625\n",
      "Accuracy for this batch: 64.84375\n",
      "Accuracy for this batch: 67.1875\n",
      "Accuracy for this batch: 60.15625\n",
      "Accuracy for this batch: 71.09375\n",
      "Accuracy for this batch: 68.75\n",
      "Accuracy for this batch: 68.75\n",
      "Accuracy for this batch: 69.53125\n",
      "Accuracy for this batch: 61.71875\n",
      "Accuracy for this batch: 62.5\n",
      "Accuracy for this batch: 63.28125\n",
      "Accuracy for this batch: 67.1875\n",
      "Accuracy for this batch: 62.5\n",
      "Accuracy for this batch: 68.75\n",
      "Accuracy for this batch: 69.53125\n",
      "Accuracy for this batch: 71.875\n",
      "Accuracy for this batch: 57.8125\n",
      "Accuracy for this batch: 65.625\n",
      "Accuracy for this batch: 71.875\n",
      "Accuracy for this batch: 65.625\n",
      "Accuracy for this batch: 75.0\n",
      "Accuracy for this batch: 66.40625\n",
      "Accuracy for this batch: 71.875\n",
      "Accuracy for this batch: 64.84375\n",
      "Accuracy for this batch: 72.65625\n",
      "Accuracy for this batch: 75.78125\n",
      "Accuracy for this batch: 62.5\n",
      "Accuracy for this batch: 64.84375\n",
      "Accuracy for this batch: 66.40625\n",
      "Accuracy for this batch: 74.21875\n",
      "Accuracy for this batch: 64.0625\n",
      "Accuracy for this batch: 67.96875\n",
      "Accuracy for this batch: 77.34375\n",
      "Accuracy for this batch: 68.75\n",
      "Accuracy for this batch: 66.40625\n",
      "Accuracy for this batch: 71.875\n",
      "Accuracy for this batch: 60.9375\n",
      "Accuracy for this batch: 66.40625\n",
      "Accuracy for this batch: 68.75\n",
      "Accuracy for this batch: 67.96875\n",
      "Accuracy for this batch: 60.15625\n",
      "Accuracy for this batch: 67.96875\n",
      "Accuracy for this batch: 62.5\n",
      "Accuracy for this batch: 67.1875\n"
     ]
    },
    {
     "name": "stdout",
     "output_type": "stream",
     "text": [
      "Accuracy for this batch: 67.96875\n",
      "Accuracy for this batch: 70.3125\n",
      "Accuracy for this batch: 71.875\n",
      "Accuracy for this batch: 71.09375\n",
      "Accuracy for this batch: 75.78125\n",
      "Accuracy for this batch: 66.40625\n",
      "Accuracy for this batch: 71.09375\n",
      "Accuracy for this batch: 74.21875\n",
      "Accuracy for this batch: 67.1875\n",
      "Accuracy for this batch: 60.9375\n",
      "Accuracy for this batch: 70.3125\n",
      "Accuracy for this batch: 64.84375\n",
      "Accuracy for this batch: 71.09375\n",
      "Accuracy for this batch: 64.0625\n",
      "Accuracy for this batch: 71.09375\n",
      "Accuracy for this batch: 71.09375\n",
      "Accuracy for this batch: 66.40625\n",
      "Accuracy for this batch: 71.09375\n",
      "Accuracy for this batch: 67.96875\n",
      "Accuracy for this batch: 64.84375\n",
      "Accuracy for this batch: 67.96875\n",
      "Accuracy for this batch: 65.625\n",
      "Accuracy for this batch: 67.1875\n",
      "Accuracy for this batch: 70.3125\n",
      "Accuracy for this batch: 76.5625\n",
      "Accuracy for this batch: 74.21875\n",
      "Accuracy for this batch: 66.40625\n",
      "Accuracy for this batch: 66.40625\n",
      "Accuracy for this batch: 64.84375\n",
      "Accuracy for this batch: 66.40625\n",
      "Accuracy for this batch: 63.28125\n",
      "Accuracy for this batch: 70.3125\n",
      "Accuracy for this batch: 70.3125\n",
      "Accuracy for this batch: 69.53125\n",
      "Accuracy for this batch: 66.40625\n",
      "Accuracy for this batch: 67.96875\n",
      "Accuracy for this batch: 71.09375\n",
      "Accuracy for this batch: 66.40625\n",
      "Accuracy for this batch: 69.53125\n",
      "Accuracy for this batch: 68.75\n",
      "Accuracy for this batch: 71.09375\n",
      "Accuracy for this batch: 71.09375\n",
      "Accuracy for this batch: 77.34375\n",
      "Accuracy for this batch: 69.53125\n",
      "Accuracy for this batch: 68.75\n",
      "Accuracy for this batch: 71.875\n",
      "Accuracy for this batch: 69.53125\n",
      "Accuracy for this batch: 66.40625\n",
      "Accuracy for this batch: 71.09375\n",
      "Accuracy for this batch: 61.71875\n",
      "Accuracy for this batch: 62.5\n",
      "Accuracy for this batch: 69.53125\n",
      "Accuracy for this batch: 66.40625\n",
      "Accuracy for this batch: 67.1875\n",
      "Accuracy for this batch: 72.65625\n",
      "Accuracy for this batch: 65.625\n",
      "Accuracy for this batch: 71.09375\n",
      "Accuracy for this batch: 69.53125\n",
      "Accuracy for this batch: 67.1875\n",
      "Accuracy for this batch: 66.40625\n",
      "Accuracy for this batch: 67.1875\n",
      "Accuracy for this batch: 66.40625\n",
      "Accuracy for this batch: 73.4375\n",
      "Accuracy for this batch: 70.3125\n",
      "Accuracy for this batch: 71.09375\n",
      "Accuracy for this batch: 64.84375\n",
      "Accuracy for this batch: 67.1875\n",
      "Accuracy for this batch: 70.3125\n",
      "Accuracy for this batch: 67.96875\n",
      "Accuracy for this batch: 67.96875\n",
      "Accuracy for this batch: 70.3125\n",
      "Accuracy for this batch: 57.03125\n",
      "Accuracy for this batch: 66.40625\n",
      "Accuracy for this batch: 64.0625\n",
      "Accuracy for this batch: 65.625\n",
      "Accuracy for this batch: 70.3125\n",
      "Accuracy for this batch: 67.1875\n",
      "Accuracy for this batch: 71.09375\n",
      "Accuracy for this batch: 68.75\n",
      "Accuracy for this batch: 68.75\n",
      "Accuracy for this batch: 71.875\n",
      "Accuracy for this batch: 68.75\n",
      "Accuracy for this batch: 67.1875\n",
      "Accuracy for this batch: 64.84375\n",
      "Accuracy for this batch: 71.875\n",
      "Accuracy for this batch: 68.75\n",
      "Accuracy for this batch: 67.96875\n",
      "Accuracy for this batch: 73.4375\n",
      "Accuracy for this batch: 60.15625\n",
      "Accuracy for this batch: 73.4375\n",
      "Accuracy for this batch: 71.875\n",
      "Accuracy for this batch: 74.21875\n",
      "Accuracy for this batch: 74.21875\n",
      "Accuracy for this batch: 67.1875\n",
      "Accuracy for this batch: 69.53125\n",
      "Accuracy for this batch: 71.09375\n",
      "Accuracy for this batch: 68.75\n",
      "Accuracy for this batch: 68.75\n",
      "Accuracy for this batch: 74.21875\n",
      "Accuracy for this batch: 71.875\n",
      "Accuracy for this batch: 70.3125\n",
      "Accuracy for this batch: 64.84375\n",
      "Accuracy for this batch: 72.65625\n",
      "Accuracy for this batch: 60.9375\n",
      "Accuracy for this batch: 72.65625\n",
      "Accuracy for this batch: 65.625\n",
      "Accuracy for this batch: 60.9375\n",
      "Accuracy for this batch: 65.625\n",
      "Accuracy for this batch: 65.625\n",
      "Accuracy for this batch: 66.40625\n",
      "Accuracy for this batch: 65.625\n",
      "Accuracy for this batch: 68.75\n",
      "Accuracy for this batch: 63.28125\n",
      "Accuracy for this batch: 74.21875\n",
      "Accuracy for this batch: 66.40625\n",
      "Accuracy for this batch: 70.3125\n",
      "Accuracy for this batch: 60.15625\n",
      "Accuracy for this batch: 73.4375\n",
      "Accuracy for this batch: 68.75\n",
      "Accuracy for this batch: 72.65625\n",
      "Accuracy for this batch: 73.4375\n",
      "Accuracy for this batch: 72.65625\n",
      "Accuracy for this batch: 63.28125\n",
      "Accuracy for this batch: 64.0625\n",
      "Accuracy for this batch: 68.75\n",
      "Accuracy for this batch: 74.21875\n",
      "Accuracy for this batch: 68.75\n",
      "Accuracy for this batch: 67.1875\n",
      "Accuracy for this batch: 63.28125\n",
      "Accuracy for this batch: 65.625\n",
      "Accuracy for this batch: 68.75\n",
      "Accuracy for this batch: 67.96875\n",
      "Accuracy for this batch: 67.1875\n",
      "Accuracy for this batch: 71.875\n",
      "Accuracy for this batch: 78.125\n",
      "Accuracy for this batch: 65.625\n",
      "Accuracy for this batch: 71.09375\n",
      "Accuracy for this batch: 64.84375\n",
      "Accuracy for this batch: 71.875\n",
      "Accuracy for this batch: 68.75\n",
      "Accuracy for this batch: 68.75\n",
      "Accuracy for this batch: 61.71875\n",
      "Accuracy for this batch: 72.65625\n",
      "Accuracy for this batch: 56.25\n",
      "Accuracy for this batch: 67.96875\n",
      "Accuracy for this batch: 65.625\n",
      "Accuracy for this batch: 60.15625\n",
      "Accuracy for this batch: 61.71875\n",
      "Accuracy for this batch: 68.75\n",
      "Accuracy for this batch: 72.65625\n",
      "Accuracy for this batch: 64.84375\n",
      "Accuracy for this batch: 71.875\n",
      "Accuracy for this batch: 67.96875\n",
      "Accuracy for this batch: 69.53125\n",
      "Accuracy for this batch: 64.0625\n",
      "Accuracy for this batch: 64.0625\n",
      "Accuracy for this batch: 77.34375\n",
      "Accuracy for this batch: 73.4375\n",
      "Accuracy for this batch: 71.09375\n",
      "Accuracy for this batch: 73.4375\n",
      "Accuracy for this batch: 67.96875\n",
      "Accuracy for this batch: 67.96875\n",
      "Accuracy for this batch: 71.09375\n",
      "Accuracy for this batch: 70.3125\n",
      "Accuracy for this batch: 72.65625\n",
      "Accuracy for this batch: 67.96875\n",
      "Accuracy for this batch: 67.96875\n",
      "Accuracy for this batch: 64.84375\n",
      "Accuracy for this batch: 67.1875\n",
      "Accuracy for this batch: 66.40625\n",
      "Accuracy for this batch: 75.78125\n",
      "Accuracy for this batch: 61.71875\n",
      "Accuracy for this batch: 71.09375\n",
      "Accuracy for this batch: 71.09375\n",
      "Accuracy for this batch: 76.5625\n",
      "Accuracy for this batch: 74.21875\n",
      "Accuracy for this batch: 65.625\n",
      "Accuracy for this batch: 64.84375\n",
      "Accuracy for this batch: 68.75\n",
      "Accuracy for this batch: 64.84375\n",
      "Accuracy for this batch: 71.875\n",
      "Accuracy for this batch: 75.0\n",
      "Accuracy for this batch: 68.75\n",
      "Accuracy for this batch: 63.28125\n",
      "Accuracy for this batch: 69.53125\n",
      "Accuracy for this batch: 61.71875\n",
      "Accuracy for this batch: 71.09375\n",
      "Accuracy for this batch: 68.75\n",
      "Accuracy for this batch: 60.15625\n",
      "Accuracy for this batch: 64.0625\n",
      "Accuracy for this batch: 71.875\n",
      "Accuracy for this batch: 65.625\n",
      "Accuracy for this batch: 65.625\n",
      "Accuracy for this batch: 67.96875\n",
      "Accuracy for this batch: 75.78125\n",
      "Accuracy for this batch: 70.3125\n",
      "Accuracy for this batch: 62.5\n",
      "Accuracy for this batch: 66.40625\n",
      "Accuracy for this batch: 60.15625\n",
      "Accuracy for this batch: 67.1875\n",
      "Accuracy for this batch: 65.625\n",
      "Accuracy for this batch: 67.96875\n",
      "Accuracy for this batch: 72.65625\n",
      "Accuracy for this batch: 73.4375\n",
      "Accuracy for this batch: 65.625\n",
      "Accuracy for this batch: 65.625\n",
      "Accuracy for this batch: 64.0625\n",
      "Accuracy for this batch: 67.96875\n",
      "Accuracy for this batch: 69.53125\n",
      "Accuracy for this batch: 69.53125\n",
      "Accuracy for this batch: 71.875\n",
      "Accuracy for this batch: 67.1875\n",
      "Accuracy for this batch: 71.875\n",
      "Accuracy for this batch: 72.65625\n",
      "Accuracy for this batch: 64.0625\n",
      "Accuracy for this batch: 66.40625\n",
      "Accuracy for this batch: 72.65625\n",
      "Accuracy for this batch: 69.53125\n",
      "Accuracy for this batch: 75.78125\n",
      "Accuracy for this batch: 67.96875\n",
      "Accuracy for this batch: 64.84375\n",
      "Accuracy for this batch: 67.96875\n",
      "Accuracy for this batch: 70.3125\n",
      "Accuracy for this batch: 75.0\n",
      "Accuracy for this batch: 71.09375\n",
      "Accuracy for this batch: 70.3125\n",
      "Accuracy for this batch: 62.5\n",
      "Accuracy for this batch: 68.75\n",
      "Accuracy for this batch: 66.40625\n",
      "Accuracy for this batch: 75.78125\n",
      "Accuracy for this batch: 70.3125\n",
      "Accuracy for this batch: 66.40625\n",
      "Accuracy for this batch: 75.0\n",
      "Accuracy for this batch: 61.71875\n",
      "Accuracy for this batch: 71.875\n",
      "Accuracy for this batch: 68.75\n",
      "Accuracy for this batch: 71.09375\n",
      "Accuracy for this batch: 69.53125\n",
      "Accuracy for this batch: 62.5\n",
      "Accuracy for this batch: 67.96875\n",
      "Accuracy for this batch: 66.40625\n",
      "Accuracy for this batch: 82.03125\n",
      "Accuracy for this batch: 64.0625\n",
      "Accuracy for this batch: 66.40625\n",
      "Accuracy for this batch: 75.0\n",
      "Accuracy for this batch: 66.40625\n",
      "Accuracy for this batch: 62.5\n",
      "Accuracy for this batch: 71.09375\n",
      "Accuracy for this batch: 71.875\n",
      "Accuracy for this batch: 62.5\n",
      "Accuracy for this batch: 74.21875\n",
      "Accuracy for this batch: 63.28125\n",
      "Accuracy for this batch: 71.09375\n",
      "Accuracy for this batch: 70.3125\n",
      "Accuracy for this batch: 70.3125\n",
      "Accuracy for this batch: 65.625\n",
      "Accuracy for this batch: 75.0\n",
      "Accuracy for this batch: 75.0\n",
      "Accuracy for this batch: 69.53125\n",
      "Accuracy for this batch: 70.3125\n",
      "Accuracy for this batch: 64.0625\n",
      "Accuracy for this batch: 75.78125\n",
      "Accuracy for this batch: 71.875\n",
      "Accuracy for this batch: 66.40625\n",
      "Accuracy for this batch: 72.65625\n",
      "Accuracy for this batch: 63.28125\n",
      "Accuracy for this batch: 65.625\n",
      "Accuracy for this batch: 66.40625\n",
      "Accuracy for this batch: 64.0625\n"
     ]
    },
    {
     "name": "stdout",
     "output_type": "stream",
     "text": [
      "Accuracy for this batch: 59.375\n",
      "Accuracy for this batch: 61.71875\n",
      "Accuracy for this batch: 81.25\n",
      "Accuracy for this batch: 69.53125\n",
      "Accuracy for this batch: 60.15625\n",
      "Accuracy for this batch: 75.0\n",
      "Accuracy for this batch: 72.65625\n",
      "Accuracy for this batch: 71.09375\n",
      "Accuracy for this batch: 72.65625\n",
      "Accuracy for this batch: 73.4375\n",
      "Accuracy for this batch: 73.4375\n",
      "Accuracy for this batch: 69.53125\n",
      "Accuracy for this batch: 67.1875\n",
      "Accuracy for this batch: 69.53125\n",
      "Accuracy for this batch: 73.4375\n",
      "Accuracy for this batch: 64.0625\n",
      "Accuracy for this batch: 68.75\n",
      "Accuracy for this batch: 69.53125\n",
      "Accuracy for this batch: 67.96875\n",
      "Accuracy for this batch: 64.0625\n",
      "Accuracy for this batch: 67.1875\n",
      "Accuracy for this batch: 65.625\n",
      "Accuracy for this batch: 63.28125\n",
      "Accuracy for this batch: 72.65625\n",
      "Accuracy for this batch: 64.0625\n",
      "Accuracy for this batch: 71.875\n",
      "Accuracy for this batch: 67.1875\n",
      "Accuracy for this batch: 64.0625\n",
      "Accuracy for this batch: 67.1875\n",
      "Accuracy for this batch: 76.5625\n",
      "Accuracy for this batch: 75.0\n",
      "Accuracy for this batch: 71.875\n",
      "Accuracy for this batch: 65.625\n",
      "Accuracy for this batch: 68.75\n",
      "Accuracy for this batch: 71.09375\n",
      "Accuracy for this batch: 66.40625\n",
      "Accuracy for this batch: 67.96875\n",
      "Accuracy for this batch: 66.40625\n",
      "Accuracy for this batch: 68.75\n",
      "Accuracy for this batch: 71.09375\n",
      "Accuracy for this batch: 69.53125\n",
      "Accuracy for this batch: 66.40625\n",
      "Accuracy for this batch: 71.09375\n",
      "Accuracy for this batch: 67.1875\n",
      "Accuracy for this batch: 59.375\n",
      "Accuracy for this batch: 68.75\n",
      "Accuracy for this batch: 67.1875\n",
      "Accuracy for this batch: 70.3125\n",
      "Accuracy for this batch: 70.3125\n",
      "Accuracy for this batch: 77.34375\n",
      "Accuracy for this batch: 67.1875\n",
      "Accuracy for this batch: 66.40625\n",
      "Accuracy for this batch: 71.875\n",
      "Accuracy for this batch: 64.84375\n",
      "Accuracy for this batch: 71.09375\n",
      "Accuracy for this batch: 73.4375\n",
      "Accuracy for this batch: 70.3125\n",
      "Accuracy for this batch: 73.4375\n",
      "Accuracy for this batch: 69.53125\n",
      "Accuracy for this batch: 67.1875\n",
      "Accuracy for this batch: 69.53125\n",
      "Accuracy for this batch: 67.96875\n",
      "Accuracy for this batch: 71.09375\n",
      "Accuracy for this batch: 65.625\n",
      "Accuracy for this batch: 66.40625\n",
      "Accuracy for this batch: 68.75\n",
      "Accuracy for this batch: 67.96875\n",
      "Accuracy for this batch: 71.875\n",
      "Accuracy for this batch: 63.28125\n",
      "Accuracy for this batch: 72.65625\n",
      "Accuracy for this batch: 67.1875\n",
      "Accuracy for this batch: 60.15625\n",
      "Accuracy for this batch: 65.625\n",
      "Accuracy for this batch: 69.53125\n",
      "Accuracy for this batch: 67.1875\n",
      "Accuracy for this batch: 67.1875\n",
      "Accuracy for this batch: 66.40625\n",
      "Accuracy for this batch: 69.53125\n",
      "Accuracy for this batch: 64.84375\n",
      "Accuracy for this batch: 66.40625\n",
      "Accuracy for this batch: 74.21875\n",
      "Accuracy for this batch: 71.09375\n",
      "Accuracy for this batch: 71.875\n",
      "Accuracy for this batch: 59.375\n",
      "Accuracy for this batch: 64.0625\n",
      "Accuracy for this batch: 70.3125\n",
      "Accuracy for this batch: 64.0625\n",
      "Accuracy for this batch: 65.625\n",
      "Accuracy for this batch: 78.90625\n",
      "Accuracy for this batch: 64.84375\n",
      "Accuracy for this batch: 71.09375\n",
      "Accuracy for this batch: 75.0\n",
      "Accuracy for this batch: 75.78125\n",
      "Accuracy for this batch: 75.0\n",
      "Accuracy for this batch: 64.0625\n",
      "Accuracy for this batch: 67.1875\n",
      "Accuracy for this batch: 67.1875\n",
      "Accuracy for this batch: 72.65625\n",
      "Accuracy for this batch: 64.0625\n",
      "Accuracy for this batch: 68.75\n",
      "Accuracy for this batch: 74.21875\n",
      "Accuracy for this batch: 70.3125\n",
      "Accuracy for this batch: 70.3125\n",
      "Accuracy for this batch: 64.84375\n",
      "Accuracy for this batch: 59.375\n",
      "Accuracy for this batch: 77.34375\n",
      "Accuracy for this batch: 62.5\n",
      "Accuracy for this batch: 67.1875\n",
      "Accuracy for this batch: 65.625\n",
      "Accuracy for this batch: 61.71875\n",
      "Accuracy for this batch: 71.875\n",
      "Accuracy for this batch: 67.96875\n",
      "Accuracy for this batch: 69.53125\n",
      "Accuracy for this batch: 67.1875\n",
      "Accuracy for this batch: 63.28125\n",
      "Accuracy for this batch: 74.21875\n",
      "Accuracy for this batch: 69.53125\n",
      "Accuracy for this batch: 62.5\n",
      "Accuracy for this batch: 69.53125\n",
      "Accuracy for this batch: 72.65625\n",
      "Accuracy for this batch: 70.3125\n",
      "Accuracy for this batch: 61.71875\n",
      "Accuracy for this batch: 71.875\n",
      "Accuracy for this batch: 69.53125\n",
      "Accuracy for this batch: 74.21875\n",
      "Accuracy for this batch: 67.96875\n",
      "Accuracy for this batch: 71.875\n",
      "Accuracy for this batch: 71.09375\n",
      "Accuracy for this batch: 73.4375\n",
      "Accuracy for this batch: 67.96875\n",
      "Accuracy for this batch: 63.28125\n",
      "Accuracy for this batch: 58.59375\n",
      "Accuracy for this batch: 75.0\n",
      "Accuracy for this batch: 71.09375\n",
      "Accuracy for this batch: 72.65625\n",
      "Accuracy for this batch: 64.0625\n",
      "Accuracy for this batch: 74.21875\n",
      "Accuracy for this batch: 70.3125\n",
      "Accuracy for this batch: 71.09375\n",
      "Accuracy for this batch: 64.0625\n",
      "Accuracy for this batch: 71.09375\n",
      "Accuracy for this batch: 68.75\n",
      "Accuracy for this batch: 64.84375\n",
      "Accuracy for this batch: 75.0\n",
      "Accuracy for this batch: 69.53125\n",
      "Accuracy for this batch: 67.96875\n",
      "Accuracy for this batch: 68.75\n",
      "Accuracy for this batch: 67.1875\n",
      "Accuracy for this batch: 82.8125\n",
      "Accuracy for this batch: 65.625\n",
      "Accuracy for this batch: 68.75\n",
      "Accuracy for this batch: 71.09375\n",
      "Accuracy for this batch: 70.3125\n",
      "Accuracy for this batch: 73.4375\n",
      "Accuracy for this batch: 75.78125\n",
      "Accuracy for this batch: 75.0\n",
      "Accuracy for this batch: 68.75\n",
      "Accuracy for this batch: 66.40625\n",
      "Accuracy for this batch: 73.4375\n",
      "Accuracy for this batch: 64.84375\n",
      "Accuracy for this batch: 64.0625\n",
      "Accuracy for this batch: 71.09375\n",
      "Accuracy for this batch: 70.3125\n",
      "Accuracy for this batch: 64.84375\n",
      "Accuracy for this batch: 74.21875\n",
      "Accuracy for this batch: 65.625\n",
      "Accuracy for this batch: 64.84375\n",
      "Accuracy for this batch: 71.875\n",
      "Accuracy for this batch: 67.1875\n",
      "Accuracy for this batch: 65.625\n",
      "Accuracy for this batch: 61.71875\n",
      "Accuracy for this batch: 67.96875\n",
      "Accuracy for this batch: 63.28125\n",
      "Accuracy for this batch: 67.96875\n",
      "Accuracy for this batch: 65.625\n",
      "Accuracy for this batch: 73.4375\n",
      "Accuracy for this batch: 71.875\n",
      "Accuracy for this batch: 68.75\n",
      "Accuracy for this batch: 68.75\n",
      "Accuracy for this batch: 75.0\n",
      "Accuracy for this batch: 67.1875\n",
      "Accuracy for this batch: 70.3125\n",
      "Accuracy for this batch: 64.84375\n",
      "Accuracy for this batch: 69.53125\n",
      "Accuracy for this batch: 68.75\n",
      "Accuracy for this batch: 65.625\n",
      "Accuracy for this batch: 66.40625\n",
      "Accuracy for this batch: 71.09375\n",
      "Accuracy for this batch: 67.1875\n",
      "Accuracy for this batch: 71.09375\n",
      "Accuracy for this batch: 70.3125\n",
      "Accuracy for this batch: 71.875\n",
      "Accuracy for this batch: 73.4375\n",
      "Accuracy for this batch: 73.4375\n",
      "Accuracy for this batch: 70.3125\n",
      "Accuracy for this batch: 69.53125\n",
      "Accuracy for this batch: 66.40625\n",
      "Accuracy for this batch: 73.4375\n",
      "Accuracy for this batch: 64.84375\n",
      "Accuracy for this batch: 71.875\n",
      "Accuracy for this batch: 66.40625\n",
      "Accuracy for this batch: 67.1875\n",
      "Accuracy for this batch: 71.09375\n",
      "Accuracy for this batch: 63.28125\n",
      "Accuracy for this batch: 68.75\n",
      "Accuracy for this batch: 67.1875\n",
      "Accuracy for this batch: 69.53125\n",
      "Accuracy for this batch: 71.875\n",
      "Accuracy for this batch: 67.96875\n",
      "Accuracy for this batch: 72.65625\n",
      "Accuracy for this batch: 62.5\n",
      "Accuracy for this batch: 70.3125\n",
      "Accuracy for this batch: 69.53125\n",
      "Accuracy for this batch: 66.40625\n",
      "Accuracy for this batch: 65.625\n",
      "Accuracy for this batch: 71.875\n",
      "Accuracy for this batch: 63.28125\n",
      "Accuracy for this batch: 64.84375\n",
      "Accuracy for this batch: 71.875\n",
      "Accuracy for this batch: 67.96875\n",
      "Accuracy for this batch: 71.875\n",
      "Accuracy for this batch: 67.1875\n",
      "Accuracy for this batch: 74.21875\n",
      "Accuracy for this batch: 62.5\n",
      "Accuracy for this batch: 75.0\n",
      "Accuracy for this batch: 72.65625\n",
      "Accuracy for this batch: 67.1875\n",
      "Accuracy for this batch: 58.59375\n",
      "Accuracy for this batch: 76.5625\n",
      "Accuracy for this batch: 75.0\n",
      "Accuracy for this batch: 67.96875\n",
      "Accuracy for this batch: 66.40625\n",
      "Accuracy for this batch: 64.84375\n",
      "Accuracy for this batch: 70.3125\n",
      "Accuracy for this batch: 67.96875\n",
      "Accuracy for this batch: 60.15625\n",
      "Accuracy for this batch: 64.84375\n",
      "Accuracy for this batch: 60.15625\n",
      "Accuracy for this batch: 60.9375\n",
      "Accuracy for this batch: 74.21875\n",
      "Accuracy for this batch: 67.96875\n",
      "Accuracy for this batch: 69.53125\n",
      "Accuracy for this batch: 65.625\n",
      "Accuracy for this batch: 73.4375\n",
      "Accuracy for this batch: 71.875\n",
      "Accuracy for this batch: 64.84375\n",
      "Accuracy for this batch: 67.1875\n",
      "Accuracy for this batch: 77.34375\n",
      "Accuracy for this batch: 71.09375\n",
      "Accuracy for this batch: 69.53125\n",
      "Accuracy for this batch: 60.9375\n",
      "Accuracy for this batch: 68.75\n",
      "Accuracy for this batch: 70.3125\n",
      "Accuracy for this batch: 64.84375\n",
      "Accuracy for this batch: 60.9375\n",
      "Accuracy for this batch: 69.53125\n",
      "Accuracy for this batch: 77.34375\n",
      "Accuracy for this batch: 65.625\n",
      "Accuracy for this batch: 67.1875\n",
      "Accuracy for this batch: 55.46875\n",
      "Accuracy for this batch: 67.96875\n",
      "Accuracy for this batch: 67.96875\n",
      "Accuracy for this batch: 63.28125\n",
      "Accuracy for this batch: 73.4375\n",
      "Accuracy for this batch: 64.0625\n",
      "Accuracy for this batch: 60.9375\n",
      "Accuracy for this batch: 64.84375\n",
      "Accuracy for this batch: 77.34375\n",
      "Accuracy for this batch: 68.75\n",
      "Accuracy for this batch: 67.96875\n",
      "Accuracy for this batch: 63.28125\n"
     ]
    },
    {
     "name": "stdout",
     "output_type": "stream",
     "text": [
      "Accuracy for this batch: 77.34375\n",
      "Accuracy for this batch: 63.28125\n",
      "Accuracy for this batch: 68.75\n",
      "Accuracy for this batch: 71.09375\n",
      "Accuracy for this batch: 67.96875\n",
      "Accuracy for this batch: 62.5\n",
      "Accuracy for this batch: 64.0625\n",
      "Accuracy for this batch: 73.4375\n",
      "Accuracy for this batch: 71.09375\n",
      "Accuracy for this batch: 71.09375\n",
      "Accuracy for this batch: 60.15625\n",
      "Accuracy for this batch: 72.65625\n",
      "Accuracy for this batch: 69.53125\n",
      "Accuracy for this batch: 70.3125\n",
      "Accuracy for this batch: 73.4375\n",
      "Accuracy for this batch: 73.4375\n",
      "Accuracy for this batch: 64.84375\n",
      "Accuracy for this batch: 73.4375\n",
      "Accuracy for this batch: 73.4375\n",
      "Accuracy for this batch: 71.09375\n",
      "Accuracy for this batch: 67.96875\n",
      "Accuracy for this batch: 69.53125\n",
      "Accuracy for this batch: 71.875\n",
      "Accuracy for this batch: 67.1875\n",
      "Accuracy for this batch: 66.40625\n",
      "Accuracy for this batch: 69.53125\n",
      "Accuracy for this batch: 57.8125\n",
      "Accuracy for this batch: 70.3125\n",
      "Accuracy for this batch: 69.53125\n",
      "Accuracy for this batch: 75.78125\n",
      "Accuracy for this batch: 66.40625\n",
      "Accuracy for this batch: 72.65625\n",
      "Accuracy for this batch: 67.96875\n",
      "Accuracy for this batch: 69.53125\n",
      "Accuracy for this batch: 67.96875\n",
      "Accuracy for this batch: 66.40625\n",
      "Accuracy for this batch: 74.21875\n",
      "Accuracy for this batch: 73.4375\n",
      "Accuracy for this batch: 72.65625\n",
      "Accuracy for this batch: 58.59375\n",
      "Accuracy for this batch: 75.78125\n",
      "Accuracy for this batch: 69.53125\n",
      "Accuracy for this batch: 60.15625\n",
      "Accuracy for this batch: 58.59375\n",
      "Accuracy for this batch: 67.96875\n",
      "Accuracy for this batch: 76.5625\n",
      "Accuracy for this batch: 73.4375\n",
      "Accuracy for this batch: 71.09375\n",
      "Accuracy for this batch: 66.40625\n",
      "Accuracy for this batch: 67.1875\n",
      "Accuracy for this batch: 67.1875\n",
      "Accuracy for this batch: 66.40625\n",
      "Accuracy for this batch: 67.1875\n",
      "Accuracy for this batch: 64.84375\n",
      "Accuracy for this batch: 67.1875\n",
      "Accuracy for this batch: 68.75\n",
      "Accuracy for this batch: 73.4375\n",
      "Accuracy for this batch: 73.4375\n",
      "Accuracy for this batch: 68.75\n",
      "Accuracy for this batch: 64.0625\n",
      "Accuracy for this batch: 71.875\n",
      "Accuracy for this batch: 64.0625\n",
      "Accuracy for this batch: 73.4375\n",
      "Accuracy for this batch: 67.96875\n",
      "Accuracy for this batch: 67.96875\n",
      "Accuracy for this batch: 68.75\n",
      "Accuracy for this batch: 70.3125\n",
      "Accuracy for this batch: 72.65625\n",
      "Accuracy for this batch: 66.40625\n",
      "Accuracy for this batch: 71.09375\n",
      "Accuracy for this batch: 67.96875\n",
      "Accuracy for this batch: 68.75\n",
      "Accuracy for this batch: 71.09375\n",
      "Accuracy for this batch: 66.40625\n",
      "Accuracy for this batch: 65.625\n",
      "Accuracy for this batch: 67.1875\n",
      "Accuracy for this batch: 67.96875\n",
      "Accuracy for this batch: 69.53125\n",
      "Accuracy for this batch: 68.75\n",
      "Accuracy for this batch: 66.40625\n",
      "Accuracy for this batch: 70.3125\n",
      "Accuracy for this batch: 69.53125\n",
      "Accuracy for this batch: 71.875\n",
      "Accuracy for this batch: 71.875\n",
      "Accuracy for this batch: 63.28125\n",
      "Accuracy for this batch: 69.53125\n",
      "Accuracy for this batch: 64.84375\n",
      "Accuracy for this batch: 71.09375\n",
      "Accuracy for this batch: 71.09375\n",
      "Accuracy for this batch: 66.40625\n",
      "Accuracy for this batch: 67.96875\n",
      "Accuracy for this batch: 70.3125\n",
      "Accuracy for this batch: 77.34375\n",
      "Accuracy for this batch: 70.3125\n",
      "Accuracy for this batch: 71.875\n",
      "Accuracy for this batch: 60.15625\n",
      "Accuracy for this batch: 64.84375\n",
      "Accuracy for this batch: 70.3125\n",
      "Accuracy for this batch: 63.28125\n",
      "Accuracy for this batch: 64.84375\n",
      "Accuracy for this batch: 75.0\n",
      "Accuracy for this batch: 66.40625\n",
      "Accuracy for this batch: 71.09375\n",
      "Accuracy for this batch: 70.3125\n",
      "Accuracy for this batch: 69.53125\n",
      "Accuracy for this batch: 71.09375\n",
      "Accuracy for this batch: 67.1875\n",
      "Accuracy for this batch: 71.875\n",
      "Accuracy for this batch: 71.09375\n",
      "Accuracy for this batch: 67.1875\n",
      "Accuracy for this batch: 71.875\n",
      "Accuracy for this batch: 64.84375\n",
      "Accuracy for this batch: 67.96875\n",
      "Accuracy for this batch: 67.1875\n",
      "Accuracy for this batch: 70.3125\n",
      "Accuracy for this batch: 67.96875\n",
      "Accuracy for this batch: 75.0\n",
      "Accuracy for this batch: 67.1875\n",
      "Accuracy for this batch: 64.84375\n",
      "Accuracy for this batch: 78.125\n",
      "Accuracy for this batch: 66.40625\n",
      "Accuracy for this batch: 71.09375\n",
      "Accuracy for this batch: 72.65625\n",
      "Accuracy for this batch: 70.3125\n",
      "Accuracy for this batch: 74.21875\n",
      "Accuracy for this batch: 75.0\n",
      "Accuracy for this batch: 64.84375\n",
      "Accuracy for this batch: 74.21875\n",
      "Accuracy for this batch: 71.875\n",
      "Accuracy for this batch: 71.09375\n",
      "Accuracy for this batch: 67.96875\n",
      "Accuracy for this batch: 77.34375\n",
      "Accuracy for this batch: 73.4375\n",
      "Accuracy for this batch: 75.0\n",
      "Accuracy for this batch: 72.65625\n",
      "Accuracy for this batch: 69.53125\n",
      "Accuracy for this batch: 71.875\n",
      "Accuracy for this batch: 68.75\n",
      "Accuracy for this batch: 78.90625\n",
      "Accuracy for this batch: 71.09375\n",
      "Accuracy for this batch: 68.75\n",
      "Accuracy for this batch: 70.3125\n",
      "Accuracy for this batch: 71.09375\n",
      "Accuracy for this batch: 64.84375\n",
      "Accuracy for this batch: 70.3125\n",
      "Accuracy for this batch: 75.0\n",
      "Accuracy for this batch: 70.3125\n",
      "Accuracy for this batch: 69.53125\n",
      "Accuracy for this batch: 71.09375\n",
      "Accuracy for this batch: 65.625\n",
      "Accuracy for this batch: 73.4375\n",
      "Accuracy for this batch: 69.53125\n",
      "Accuracy for this batch: 71.875\n",
      "Accuracy for this batch: 75.78125\n",
      "Accuracy for this batch: 73.4375\n",
      "Accuracy for this batch: 69.53125\n",
      "Accuracy for this batch: 65.625\n",
      "Accuracy for this batch: 65.625\n",
      "Accuracy for this batch: 67.96875\n",
      "Accuracy for this batch: 61.71875\n",
      "Accuracy for this batch: 74.21875\n",
      "Accuracy for this batch: 62.5\n",
      "Accuracy for this batch: 68.75\n",
      "Accuracy for this batch: 70.3125\n",
      "Accuracy for this batch: 70.83333134651184\n",
      "Mean accuracy: 68.8762060259698\n"
     ]
    }
   ],
   "source": [
    "test_acc=[]\n",
    "for nextBatchLabels, nextBatch, nextWc in getBatch(data['train']):\n",
    "    acc=(sess.run(accuracy, {input_data: nextBatch, labels: nextBatchLabels, traindata.wc: nextWc})) * 100\n",
    "    test_acc.append(acc)\n",
    "    print(\"Accuracy for this batch:\", acc)\n",
    "print(\"Mean accuracy:\", np.mean(test_acc))"
   ]
  },
  {
   "cell_type": "code",
   "execution_count": 67,
   "metadata": {},
   "outputs": [
    {
     "name": "stdout",
     "output_type": "stream",
     "text": [
      "Accuracy for this batch: 71.875\n",
      "Accuracy for this batch: 68.75\n",
      "Accuracy for this batch: 63.28125\n",
      "Accuracy for this batch: 59.375\n",
      "Accuracy for this batch: 63.28125\n",
      "Accuracy for this batch: 64.84375\n",
      "Accuracy for this batch: 60.9375\n",
      "Accuracy for this batch: 67.1875\n",
      "Accuracy for this batch: 64.0625\n",
      "Accuracy for this batch: 69.53125\n",
      "Accuracy for this batch: 72.65625\n",
      "Accuracy for this batch: 71.09375\n",
      "Accuracy for this batch: 65.625\n",
      "Accuracy for this batch: 71.09375\n",
      "Accuracy for this batch: 62.5\n",
      "Accuracy for this batch: 68.75\n",
      "Accuracy for this batch: 69.53125\n",
      "Accuracy for this batch: 66.40625\n",
      "Accuracy for this batch: 71.09375\n",
      "Accuracy for this batch: 61.71875\n",
      "Accuracy for this batch: 67.96875\n",
      "Accuracy for this batch: 57.8125\n",
      "Accuracy for this batch: 59.375\n",
      "Accuracy for this batch: 64.84375\n",
      "Accuracy for this batch: 60.9375\n",
      "Accuracy for this batch: 67.1875\n",
      "Accuracy for this batch: 70.3125\n",
      "Accuracy for this batch: 68.75\n",
      "Accuracy for this batch: 70.3125\n",
      "Accuracy for this batch: 67.96875\n",
      "Accuracy for this batch: 66.40625\n",
      "Accuracy for this batch: 70.3125\n",
      "Accuracy for this batch: 71.09375\n",
      "Accuracy for this batch: 72.65625\n",
      "Accuracy for this batch: 72.65625\n",
      "Accuracy for this batch: 67.1875\n",
      "Accuracy for this batch: 68.75\n",
      "Accuracy for this batch: 65.625\n",
      "Accuracy for this batch: 63.28125\n",
      "Accuracy for this batch: 67.96875\n",
      "Accuracy for this batch: 65.625\n",
      "Accuracy for this batch: 75.0\n",
      "Accuracy for this batch: 64.0625\n",
      "Accuracy for this batch: 66.40625\n",
      "Accuracy for this batch: 67.96875\n",
      "Accuracy for this batch: 69.53125\n",
      "Accuracy for this batch: 65.625\n",
      "Accuracy for this batch: 67.1875\n",
      "Accuracy for this batch: 61.71875\n",
      "Accuracy for this batch: 75.0\n",
      "Accuracy for this batch: 61.71875\n",
      "Accuracy for this batch: 76.5625\n",
      "Accuracy for this batch: 65.625\n",
      "Accuracy for this batch: 58.59375\n",
      "Accuracy for this batch: 66.40625\n",
      "Accuracy for this batch: 68.75\n",
      "Accuracy for this batch: 64.84375\n",
      "Accuracy for this batch: 69.53125\n",
      "Accuracy for this batch: 67.96875\n",
      "Accuracy for this batch: 64.0625\n",
      "Accuracy for this batch: 64.84375\n",
      "Accuracy for this batch: 76.5625\n",
      "Accuracy for this batch: 68.75\n",
      "Accuracy for this batch: 63.28125\n",
      "Accuracy for this batch: 67.1875\n",
      "Accuracy for this batch: 67.1875\n",
      "Accuracy for this batch: 60.9375\n",
      "Accuracy for this batch: 67.1875\n",
      "Accuracy for this batch: 65.625\n",
      "Accuracy for this batch: 63.28125\n",
      "Accuracy for this batch: 64.0625\n",
      "Accuracy for this batch: 69.53125\n",
      "Accuracy for this batch: 71.875\n",
      "Accuracy for this batch: 67.1875\n",
      "Accuracy for this batch: 65.625\n",
      "Accuracy for this batch: 65.625\n",
      "Accuracy for this batch: 70.3125\n",
      "Accuracy for this batch: 62.5\n",
      "Accuracy for this batch: 70.3125\n",
      "Accuracy for this batch: 67.1875\n",
      "Accuracy for this batch: 70.3125\n",
      "Accuracy for this batch: 66.40625\n",
      "Accuracy for this batch: 64.84375\n",
      "Accuracy for this batch: 69.53125\n",
      "Accuracy for this batch: 74.21875\n",
      "Accuracy for this batch: 66.40625\n",
      "Accuracy for this batch: 67.96875\n",
      "Accuracy for this batch: 58.59375\n",
      "Accuracy for this batch: 62.5\n",
      "Accuracy for this batch: 60.15625\n",
      "Accuracy for this batch: 60.9375\n",
      "Accuracy for this batch: 68.75\n",
      "Accuracy for this batch: 65.625\n",
      "Accuracy for this batch: 69.53125\n",
      "Accuracy for this batch: 67.96875\n",
      "Accuracy for this batch: 64.84375\n",
      "Accuracy for this batch: 67.1875\n",
      "Accuracy for this batch: 57.03125\n",
      "Accuracy for this batch: 68.75\n",
      "Accuracy for this batch: 67.1875\n",
      "Accuracy for this batch: 62.5\n",
      "Accuracy for this batch: 62.5\n",
      "Accuracy for this batch: 67.96875\n",
      "Accuracy for this batch: 71.09375\n",
      "Accuracy for this batch: 57.8125\n",
      "Accuracy for this batch: 64.0625\n",
      "Accuracy for this batch: 67.1875\n",
      "Accuracy for this batch: 68.75\n",
      "Accuracy for this batch: 64.84375\n",
      "Accuracy for this batch: 66.40625\n",
      "Accuracy for this batch: 62.5\n",
      "Accuracy for this batch: 60.15625\n",
      "Accuracy for this batch: 64.84375\n",
      "Accuracy for this batch: 61.71875\n",
      "Accuracy for this batch: 60.15625\n",
      "Accuracy for this batch: 65.625\n",
      "Accuracy for this batch: 67.96875\n",
      "Accuracy for this batch: 62.5\n",
      "Accuracy for this batch: 64.84375\n",
      "Accuracy for this batch: 66.40625\n",
      "Accuracy for this batch: 65.625\n",
      "Accuracy for this batch: 58.59375\n",
      "Accuracy for this batch: 60.9375\n",
      "Accuracy for this batch: 66.40625\n",
      "Accuracy for this batch: 64.0625\n",
      "Accuracy for this batch: 70.3125\n",
      "Accuracy for this batch: 67.96875\n",
      "Accuracy for this batch: 60.9375\n",
      "Accuracy for this batch: 64.84375\n",
      "Accuracy for this batch: 64.84375\n",
      "Accuracy for this batch: 66.40625\n",
      "Accuracy for this batch: 71.875\n",
      "Accuracy for this batch: 67.1875\n",
      "Accuracy for this batch: 67.96875\n",
      "Accuracy for this batch: 67.96875\n",
      "Accuracy for this batch: 64.0625\n",
      "Accuracy for this batch: 60.15625\n",
      "Accuracy for this batch: 64.84375\n",
      "Accuracy for this batch: 67.1875\n",
      "Accuracy for this batch: 65.625\n",
      "Accuracy for this batch: 73.4375\n",
      "Accuracy for this batch: 67.96875\n",
      "Accuracy for this batch: 75.78125\n",
      "Accuracy for this batch: 65.625\n",
      "Accuracy for this batch: 60.15625\n",
      "Accuracy for this batch: 64.0625\n",
      "Accuracy for this batch: 67.96875\n",
      "Accuracy for this batch: 70.3125\n",
      "Accuracy for this batch: 64.84375\n",
      "Accuracy for this batch: 60.9375\n",
      "Accuracy for this batch: 62.5\n",
      "Accuracy for this batch: 67.1875\n",
      "Accuracy for this batch: 60.9375\n",
      "Accuracy for this batch: 64.0625\n",
      "Accuracy for this batch: 56.25\n",
      "Accuracy for this batch: 64.0625\n",
      "Accuracy for this batch: 69.53125\n",
      "Accuracy for this batch: 67.96875\n",
      "Accuracy for this batch: 71.09375\n",
      "Accuracy for this batch: 69.53125\n",
      "Accuracy for this batch: 60.15625\n",
      "Accuracy for this batch: 72.65625\n",
      "Accuracy for this batch: 61.71875\n",
      "Accuracy for this batch: 64.84375\n",
      "Accuracy for this batch: 70.3125\n",
      "Accuracy for this batch: 64.0625\n",
      "Accuracy for this batch: 63.28125\n",
      "Accuracy for this batch: 64.84375\n",
      "Accuracy for this batch: 67.96875\n",
      "Accuracy for this batch: 71.875\n",
      "Accuracy for this batch: 63.28125\n",
      "Accuracy for this batch: 64.0625\n",
      "Accuracy for this batch: 64.0625\n",
      "Accuracy for this batch: 69.53125\n",
      "Accuracy for this batch: 59.375\n",
      "Accuracy for this batch: 71.875\n",
      "Accuracy for this batch: 74.21875\n",
      "Accuracy for this batch: 69.53125\n",
      "Accuracy for this batch: 59.375\n",
      "Accuracy for this batch: 64.84375\n",
      "Accuracy for this batch: 69.53125\n",
      "Accuracy for this batch: 67.96875\n",
      "Accuracy for this batch: 61.71875\n",
      "Accuracy for this batch: 62.5\n",
      "Accuracy for this batch: 61.71875\n",
      "Accuracy for this batch: 63.28125\n",
      "Accuracy for this batch: 67.1875\n",
      "Accuracy for this batch: 64.0625\n",
      "Accuracy for this batch: 65.625\n",
      "Accuracy for this batch: 64.84375\n",
      "Accuracy for this batch: 60.9375\n",
      "Accuracy for this batch: 58.59375\n",
      "Accuracy for this batch: 64.84375\n",
      "Accuracy for this batch: 60.9375\n",
      "Accuracy for this batch: 64.84375\n",
      "Accuracy for this batch: 67.96875\n",
      "Accuracy for this batch: 61.71875\n",
      "Accuracy for this batch: 69.53125\n",
      "Accuracy for this batch: 66.40625\n",
      "Accuracy for this batch: 62.5\n",
      "Accuracy for this batch: 63.28125\n",
      "Accuracy for this batch: 70.3125\n",
      "Accuracy for this batch: 60.9375\n",
      "Accuracy for this batch: 64.84375\n",
      "Accuracy for this batch: 71.875\n",
      "Accuracy for this batch: 66.40625\n",
      "Accuracy for this batch: 63.28125\n",
      "Accuracy for this batch: 71.09375\n",
      "Accuracy for this batch: 67.96875\n",
      "Accuracy for this batch: 65.625\n",
      "Accuracy for this batch: 67.1875\n",
      "Accuracy for this batch: 63.28125\n",
      "Accuracy for this batch: 69.53125\n",
      "Accuracy for this batch: 72.65625\n",
      "Accuracy for this batch: 76.5625\n",
      "Accuracy for this batch: 67.1875\n",
      "Accuracy for this batch: 67.1875\n",
      "Accuracy for this batch: 60.15625\n",
      "Accuracy for this batch: 60.15625\n",
      "Accuracy for this batch: 64.84375\n",
      "Accuracy for this batch: 61.71875\n",
      "Accuracy for this batch: 64.84375\n",
      "Accuracy for this batch: 67.1875\n",
      "Accuracy for this batch: 67.96875\n",
      "Accuracy for this batch: 70.3125\n",
      "Accuracy for this batch: 63.28125\n",
      "Accuracy for this batch: 66.40625\n",
      "Accuracy for this batch: 60.15625\n",
      "Accuracy for this batch: 71.09375\n",
      "Accuracy for this batch: 64.0625\n",
      "Accuracy for this batch: 68.75\n",
      "Accuracy for this batch: 71.875\n",
      "Accuracy for this batch: 71.09375\n",
      "Accuracy for this batch: 59.375\n",
      "Accuracy for this batch: 66.40625\n",
      "Accuracy for this batch: 69.53125\n",
      "Accuracy for this batch: 67.96875\n",
      "Accuracy for this batch: 63.28125\n",
      "Accuracy for this batch: 64.84375\n",
      "Accuracy for this batch: 67.96875\n",
      "Accuracy for this batch: 71.875\n",
      "Accuracy for this batch: 64.0625\n",
      "Accuracy for this batch: 75.0\n",
      "Accuracy for this batch: 64.81481194496155\n",
      "Mean accuracy: 66.16279123747935\n"
     ]
    }
   ],
   "source": [
    "test_acc=[]\n",
    "for nextBatchLabels, nextBatch, nextWc in getBatch(data['test']):\n",
    "    acc=(sess.run(accuracy, {input_data: nextBatch, labels: nextBatchLabels, traindata.wc: nextWc})) * 100\n",
    "    test_acc.append(acc)\n",
    "    print(\"Accuracy for this batch:\", acc)\n",
    "print(\"Mean accuracy:\", np.mean(test_acc))"
   ]
  },
  {
   "cell_type": "markdown",
   "metadata": {
    "collapsed": true
   },
   "source": [
    "# Conclusion"
   ]
  },
  {
   "cell_type": "markdown",
   "metadata": {},
   "source": [
    "In this notebook, we went over a deep learning approach to sentiment analysis. We looked at the different components involved in the whole pipeline and then looked at the process of writing Tensorflow code to implement the model in practice. Finally, we trained and tested the model so that it is able to classify movie reviews.\n",
    "\n",
    "With the help of Tensorflow, you can create your own sentiment classifiers to understand the large amounts of natural language in the world, and use the results to form actionable insights. Thanks for reading and following along!"
   ]
  },
  {
   "cell_type": "code",
   "execution_count": 81,
   "metadata": {
    "collapsed": true
   },
   "outputs": [],
   "source": [
    "writer.close()"
   ]
  },
  {
   "cell_type": "code",
   "execution_count": 87,
   "metadata": {
    "collapsed": true
   },
   "outputs": [],
   "source": [
    "qdata = pd.read_csv('test.tsv', sep='\\t')\n",
    "qdata['wc']=qdata.Phrase.map(lambda x: len(x.split()))"
   ]
  },
  {
   "cell_type": "code",
   "execution_count": 88,
   "metadata": {},
   "outputs": [
    {
     "name": "stdout",
     "output_type": "stream",
     "text": [
      "count    66292.000000\n",
      "mean         6.678589\n",
      "std          6.773727\n",
      "min          0.000000\n",
      "25%          2.000000\n",
      "50%          4.000000\n",
      "75%          9.000000\n",
      "max         56.000000\n",
      "Name: wc, dtype: float64\n"
     ]
    },
    {
     "data": {
      "image/png": "[encoded data removed]",
      "text/plain": [
       "<matplotlib.figure.Figure at 0x7f6eb7d5a208>"
      ]
     },
     "metadata": {},
     "output_type": "display_data"
    }
   ],
   "source": [
    "print(qdata.wc.describe())\n",
    "import matplotlib.pyplot as plt\n",
    "%matplotlib inline\n",
    "plt.hist(qdata.wc, 100)\n",
    "plt.xlabel('Sequence Length')\n",
    "plt.ylabel('Frequency')\n",
    "plt.axis([0, 100, 0, 28000])\n",
    "plt.show()"
   ]
  },
  {
   "cell_type": "code",
   "execution_count": 89,
   "metadata": {},
   "outputs": [
    {
     "data": {
      "text/html": [
       "<div>\n",
       "<table border=\"1\" class=\"dataframe\">\n",
       "  <thead>\n",
       "    <tr style=\"text-align: right;\">\n",
       "      <th></th>\n",
       "      <th>PhraseId</th>\n",
       "      <th>SentenceId</th>\n",
       "      <th>Phrase</th>\n",
       "      <th>wc</th>\n",
       "    </tr>\n",
       "  </thead>\n",
       "  <tbody>\n",
       "    <tr>\n",
       "      <th>0</th>\n",
       "      <td>156061</td>\n",
       "      <td>8545</td>\n",
       "      <td>An intermittently pleasing but mostly routine ...</td>\n",
       "      <td>8</td>\n",
       "    </tr>\n",
       "    <tr>\n",
       "      <th>1</th>\n",
       "      <td>156062</td>\n",
       "      <td>8545</td>\n",
       "      <td>An intermittently pleasing but mostly routine ...</td>\n",
       "      <td>7</td>\n",
       "    </tr>\n",
       "    <tr>\n",
       "      <th>2</th>\n",
       "      <td>156063</td>\n",
       "      <td>8545</td>\n",
       "      <td>An</td>\n",
       "      <td>1</td>\n",
       "    </tr>\n",
       "    <tr>\n",
       "      <th>3</th>\n",
       "      <td>156064</td>\n",
       "      <td>8545</td>\n",
       "      <td>intermittently pleasing but mostly routine effort</td>\n",
       "      <td>6</td>\n",
       "    </tr>\n",
       "    <tr>\n",
       "      <th>4</th>\n",
       "      <td>156065</td>\n",
       "      <td>8545</td>\n",
       "      <td>intermittently pleasing but mostly routine</td>\n",
       "      <td>5</td>\n",
       "    </tr>\n",
       "  </tbody>\n",
       "</table>\n",
       "</div>"
      ],
      "text/plain": [
       "   PhraseId  SentenceId                                             Phrase  wc\n",
       "0    156061        8545  An intermittently pleasing but mostly routine ...   8\n",
       "1    156062        8545  An intermittently pleasing but mostly routine ...   7\n",
       "2    156063        8545                                                 An   1\n",
       "3    156064        8545  intermittently pleasing but mostly routine effort   6\n",
       "4    156065        8545         intermittently pleasing but mostly routine   5"
      ]
     },
     "execution_count": 89,
     "metadata": {},
     "output_type": "execute_result"
    }
   ],
   "source": [
    "qdata.head()"
   ]
  },
  {
   "cell_type": "code",
   "execution_count": 90,
   "metadata": {
    "collapsed": true
   },
   "outputs": [],
   "source": [
    "qdata['emb']=parallelize(qdata.Phrase, get_phrase_embeddings)"
   ]
  },
  {
   "cell_type": "code",
   "execution_count": 92,
   "metadata": {
    "collapsed": true
   },
   "outputs": [],
   "source": [
    "data['q']= {\n",
    "    'emb':    np.zeros((len(qdata.index), qdata.emb.values[0].shape[0]), dtype='int32'),\n",
    "    'labels': np.zeros((len(qdata.index), numClasses))\n",
    "}\n",
    "i=0\n",
    "for r in qdata.itertuples():\n",
    "    data['q']['emb'][i]=r.emb\n",
    "    i+=1\n",
    "i=0\n"
   ]
  },
  {
   "cell_type": "code",
   "execution_count": 93,
   "metadata": {
    "collapsed": true
   },
   "outputs": [],
   "source": [
    "def getQBatch(source, batchSize=128):\n",
    "    i=0\n",
    "    while i < source['emb'].shape[0]:\n",
    "        start=i\n",
    "        end=i+batchSize\n",
    "        if end > source['emb'].shape[0]:\n",
    "            end=source['emb'].shape[0]\n",
    "        i=end\n",
    "        yield source['emb'][start:end]"
   ]
  },
  {
   "cell_type": "code",
   "execution_count": 94,
   "metadata": {
    "collapsed": true
   },
   "outputs": [],
   "source": [
    "predictions=tf.argmax(scores,1)"
   ]
  },
  {
   "cell_type": "code",
   "execution_count": 100,
   "metadata": {},
   "outputs": [
    {
     "name": "stdout",
     "output_type": "stream",
     "text": [
      "Predicted labes: [3 3 2 ... 1 1 1]\n"
     ]
    }
   ],
   "source": [
    "predicted_labels=np.concatenate([sess.run(predictions, {input_data: nextBatch}) for nextBatch in getQBatch(data['q']) ])\n",
    "print(\"Predicted labes:\",predicted_labels)"
   ]
  },
  {
   "cell_type": "code",
   "execution_count": 101,
   "metadata": {},
   "outputs": [
    {
     "data": {
      "text/plain": [
       "(66292,)"
      ]
     },
     "execution_count": 101,
     "metadata": {},
     "output_type": "execute_result"
    }
   ],
   "source": [
    "predicted_labels.shape"
   ]
  },
  {
   "cell_type": "code",
   "execution_count": 102,
   "metadata": {
    "collapsed": true
   },
   "outputs": [],
   "source": [
    "qdata['Sentiment']=predicted_labels"
   ]
  },
  {
   "cell_type": "code",
   "execution_count": 103,
   "metadata": {},
   "outputs": [
    {
     "data": {
      "text/html": [
       "<div>\n",
       "<table border=\"1\" class=\"dataframe\">\n",
       "  <thead>\n",
       "    <tr style=\"text-align: right;\">\n",
       "      <th></th>\n",
       "      <th>PhraseId</th>\n",
       "      <th>SentenceId</th>\n",
       "      <th>Phrase</th>\n",
       "      <th>wc</th>\n",
       "      <th>emb</th>\n",
       "      <th>Sentiment</th>\n",
       "    </tr>\n",
       "  </thead>\n",
       "  <tbody>\n",
       "    <tr>\n",
       "      <th>0</th>\n",
       "      <td>156061</td>\n",
       "      <td>8545</td>\n",
       "      <td>An intermittently pleasing but mostly routine ...</td>\n",
       "      <td>8</td>\n",
       "      <td>[27, 36264, 16149, 33, 1766, 4212, 797, 299999...</td>\n",
       "      <td>3</td>\n",
       "    </tr>\n",
       "    <tr>\n",
       "      <th>1</th>\n",
       "      <td>156062</td>\n",
       "      <td>8545</td>\n",
       "      <td>An intermittently pleasing but mostly routine ...</td>\n",
       "      <td>7</td>\n",
       "      <td>[27, 36264, 16149, 33, 1766, 4212, 797, 0, 0, ...</td>\n",
       "      <td>3</td>\n",
       "    </tr>\n",
       "    <tr>\n",
       "      <th>2</th>\n",
       "      <td>156063</td>\n",
       "      <td>8545</td>\n",
       "      <td>An</td>\n",
       "      <td>1</td>\n",
       "      <td>[27, 0, 0, 0, 0, 0, 0, 0, 0, 0, 0, 0, 0, 0, 0,...</td>\n",
       "      <td>2</td>\n",
       "    </tr>\n",
       "    <tr>\n",
       "      <th>3</th>\n",
       "      <td>156064</td>\n",
       "      <td>8545</td>\n",
       "      <td>intermittently pleasing but mostly routine effort</td>\n",
       "      <td>6</td>\n",
       "      <td>[36264, 16149, 33, 1766, 4212, 797, 0, 0, 0, 0...</td>\n",
       "      <td>2</td>\n",
       "    </tr>\n",
       "    <tr>\n",
       "      <th>4</th>\n",
       "      <td>156065</td>\n",
       "      <td>8545</td>\n",
       "      <td>intermittently pleasing but mostly routine</td>\n",
       "      <td>5</td>\n",
       "      <td>[36264, 16149, 33, 1766, 4212, 0, 0, 0, 0, 0, ...</td>\n",
       "      <td>2</td>\n",
       "    </tr>\n",
       "  </tbody>\n",
       "</table>\n",
       "</div>"
      ],
      "text/plain": [
       "   PhraseId  SentenceId                                             Phrase  \\\n",
       "0    156061        8545  An intermittently pleasing but mostly routine ...   \n",
       "1    156062        8545  An intermittently pleasing but mostly routine ...   \n",
       "2    156063        8545                                                 An   \n",
       "3    156064        8545  intermittently pleasing but mostly routine effort   \n",
       "4    156065        8545         intermittently pleasing but mostly routine   \n",
       "\n",
       "   wc                                                emb  Sentiment  \n",
       "0   8  [27, 36264, 16149, 33, 1766, 4212, 797, 299999...          3  \n",
       "1   7  [27, 36264, 16149, 33, 1766, 4212, 797, 0, 0, ...          3  \n",
       "2   1  [27, 0, 0, 0, 0, 0, 0, 0, 0, 0, 0, 0, 0, 0, 0,...          2  \n",
       "3   6  [36264, 16149, 33, 1766, 4212, 797, 0, 0, 0, 0...          2  \n",
       "4   5  [36264, 16149, 33, 1766, 4212, 0, 0, 0, 0, 0, ...          2  "
      ]
     },
     "execution_count": 103,
     "metadata": {},
     "output_type": "execute_result"
    }
   ],
   "source": [
    "qdata.head()"
   ]
  },
  {
   "cell_type": "code",
   "execution_count": 107,
   "metadata": {
    "collapsed": true
   },
   "outputs": [],
   "source": [
    "qdata[['PhraseId','Sentiment']].to_csv('pred1.csv', index=False)"
   ]
  },
  {
   "cell_type": "code",
   "execution_count": null,
   "metadata": {
    "collapsed": true
   },
   "outputs": [],
   "source": []
  }
 ],
 "metadata": {
  "anaconda-cloud": {},
  "kernelspec": {
   "display_name": "Python 3",
   "language": "python3.6",
   "name": "python3"
  },
  "language_info": {
   "codemirror_mode": {
    "name": "ipython",
    "version": 3
   },
   "file_extension": ".py",
   "mimetype": "text/x-python",
   "name": "python",
   "nbconvert_exporter": "python",
   "pygments_lexer": "ipython3",
   "version": "3.6.3"
  }
 },
 "nbformat": 4,
 "nbformat_minor": 1
}
